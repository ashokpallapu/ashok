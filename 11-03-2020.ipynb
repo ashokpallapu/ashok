{
 "cells": [
  {
   "cell_type": "markdown",
   "metadata": {},
   "source": [
    " # list Tasks"
   ]
  },
  {
   "cell_type": "code",
   "execution_count": 4,
   "metadata": {},
   "outputs": [
    {
     "name": "stdout",
     "output_type": "stream",
     "text": [
      "ashok\n",
      "hyd\n",
      "KPHB\n",
      "vij\n"
     ]
    }
   ],
   "source": [
    "li=[\"ashok\",\"hyd\",\"KPHB\",\"vij\"]\n",
    "for i in li:\n",
    "    print(i)"
   ]
  },
  {
   "cell_type": "code",
   "execution_count": 5,
   "metadata": {},
   "outputs": [
    {
     "name": "stdout",
     "output_type": "stream",
     "text": [
      "yes,'ashok' in the li\n"
     ]
    }
   ],
   "source": [
    "if \"ashok\" in li:\n",
    "    print(\"yes,'ashok' in the li\")"
   ]
  },
  {
   "cell_type": "code",
   "execution_count": 6,
   "metadata": {},
   "outputs": [
    {
     "name": "stdout",
     "output_type": "stream",
     "text": [
      "4\n"
     ]
    }
   ],
   "source": [
    "print(len(li))\n"
   ]
  },
  {
   "cell_type": "code",
   "execution_count": 7,
   "metadata": {},
   "outputs": [
    {
     "name": "stdout",
     "output_type": "stream",
     "text": [
      "ashok-hyd-kphb\n"
     ]
    }
   ],
   "source": [
    "#to conver the list of values in to string\n",
    "list=[\"ashok\",\"hyd\",\"kphb\"]\n",
    "list1='-'\n",
    "print(list1.join(list))#--->join() is concate the two are more strings"
   ]
  },
  {
   "cell_type": "code",
   "execution_count": 8,
   "metadata": {},
   "outputs": [
    {
     "ename": "SyntaxError",
     "evalue": "invalid syntax (<ipython-input-8-7424083a94d0>, line 3)",
     "output_type": "error",
     "traceback": [
      "\u001b[1;36m  File \u001b[1;32m\"<ipython-input-8-7424083a94d0>\"\u001b[1;36m, line \u001b[1;32m3\u001b[0m\n\u001b[1;33m    .....\u001b[0m\n\u001b[1;37m        ^\u001b[0m\n\u001b[1;31mSyntaxError\u001b[0m\u001b[1;31m:\u001b[0m invalid syntax\n"
     ]
    }
   ],
   "source": [
    "range(0,10)\n",
    "range(10,20)\n",
    ".....\n",
    "range(90,100)"
   ]
  },
  {
   "cell_type": "code",
   "execution_count": null,
   "metadata": {},
   "outputs": [],
   "source": [
    "#create the list\n",
    "#list=[0,1,2,3,9],[10,11,12,13,19],[20,21,22,23,29]\n",
    "\n",
    "out =[]\n",
    "for i in range(0,100,10):\n",
    "    out.append(list(range(i,i+10)))\n",
    "\n",
    "out[6][5]\n"
   ]
  },
  {
   "cell_type": "code",
   "execution_count": 5,
   "metadata": {},
   "outputs": [
    {
     "data": {
      "text/plain": [
       "[27, 576, 56, 144, 19, 900]"
      ]
     },
     "execution_count": 5,
     "metadata": {},
     "output_type": "execute_result"
    }
   ],
   "source": [
    "a=[27,24,56,12,19,30]\n",
    "for i in range(1,len(a),2):\n",
    "    a[i]=a[i]*a[i]\n",
    "a"
   ]
  },
  {
   "cell_type": "code",
   "execution_count": 6,
   "metadata": {},
   "outputs": [
    {
     "data": {
      "text/plain": [
       "[27, 576, 3136, 144, 361, 900]"
      ]
     },
     "execution_count": 6,
     "metadata": {},
     "output_type": "execute_result"
    }
   ],
   "source": [
    "i=2\n",
    "while i<len(a):\n",
    "    a[i]=a[i]*a[i]\n",
    "    i=i+2\n",
    "a\n",
    "    \n",
    "    "
   ]
  },
  {
   "cell_type": "code",
   "execution_count": 8,
   "metadata": {},
   "outputs": [
    {
     "ename": "SyntaxError",
     "evalue": "invalid syntax (<ipython-input-8-2fb879c75f6a>, line 3)",
     "output_type": "error",
     "traceback": [
      "\u001b[1;36m  File \u001b[1;32m\"<ipython-input-8-2fb879c75f6a>\"\u001b[1;36m, line \u001b[1;32m3\u001b[0m\n\u001b[1;33m    if i%==1:\u001b[0m\n\u001b[1;37m         ^\u001b[0m\n\u001b[1;31mSyntaxError\u001b[0m\u001b[1;31m:\u001b[0m invalid syntax\n"
     ]
    }
   ],
   "source": [
    "a=[27,24,56,12,19,30]\n",
    "for i in range(1,len(a)):\n",
    "    if i%==1:\n",
    "    a[i]=a[i]**2\n",
    "a"
   ]
  },
  {
   "cell_type": "code",
   "execution_count": 9,
   "metadata": {},
   "outputs": [
    {
     "data": {
      "text/plain": [
       "[27, 576, 144, 19, 900]"
      ]
     },
     "execution_count": 9,
     "metadata": {},
     "output_type": "execute_result"
    }
   ],
   "source": [
    "a=[27,24,12,19,30]\n",
    "#o/p[27,576,144,19,900]\n",
    "for i in range(len(a)):\n",
    "    if (a[i]%6)==0:\n",
    "        a[i]=a[i]**2\n",
    "a"
   ]
  },
  {
   "cell_type": "code",
   "execution_count": 10,
   "metadata": {},
   "outputs": [
    {
     "data": {
      "text/plain": [
       "[27, 576, 144, 19, 900]"
      ]
     },
     "execution_count": 10,
     "metadata": {},
     "output_type": "execute_result"
    }
   ],
   "source": [
    "a=[27,24,12,19,30]\n",
    "b=[]\n",
    "for i in a:\n",
    "    if(i%6)==0:\n",
    "        b.append(i**2)\n",
    "    else:\n",
    "        b.append(i)\n",
    "b\n",
    "    "
   ]
  },
  {
   "cell_type": "code",
   "execution_count": 11,
   "metadata": {},
   "outputs": [
    {
     "name": "stdout",
     "output_type": "stream",
     "text": [
      "[27, 576, 144, 19, 900]\n",
      "[27, 24, 12, 19, 30]\n"
     ]
    }
   ],
   "source": [
    "#w r p to find out the 6 multilles and squres that number of given list\n",
    "a=[27,24,12,19,30]\n",
    "b=[]\n",
    "for i in a:\n",
    "    if(i%6)==0:\n",
    "        b.append(i**2)\n",
    "    else:\n",
    "        b.append(i)\n",
    "print(b)\n",
    "print(a)"
   ]
  },
  {
   "cell_type": "code",
   "execution_count": 12,
   "metadata": {},
   "outputs": [
    {
     "name": "stdout",
     "output_type": "stream",
     "text": [
      "[27, 24, 12, 19, 30]\n",
      "[27, 576, 144, 19, 900]\n"
     ]
    }
   ],
   "source": [
    "#w r p by using copy()\n",
    "a=[27,24,12,19,30]\n",
    "b=a.copy()\n",
    "for i in range (len(a)):\n",
    "    if a[i]%6==0:\n",
    "        b[i]=b[i]**2\n",
    "print(a)\n",
    "print(b)\n",
    "            \n"
   ]
  },
  {
   "cell_type": "code",
   "execution_count": 13,
   "metadata": {},
   "outputs": [
    {
     "name": "stdout",
     "output_type": "stream",
     "text": [
      "[27, 24, 12, 19, 30]\n",
      "[27, 576, 144, 19, 900]\n"
     ]
    }
   ],
   "source": [
    "a=[27,24,12,19,30]\n",
    "b=a[:]\n",
    "for i in range (len(a)):\n",
    "    if a[i]%6==0:\n",
    "        b[i]=b[i]**2\n",
    "print(a)\n",
    "print(b)"
   ]
  },
  {
   "cell_type": "markdown",
   "metadata": {},
   "source": [
    " # Tuple:we can not over ride i.e immutable\n",
    "  ## it indicates()"
   ]
  },
  {
   "cell_type": "code",
   "execution_count": 14,
   "metadata": {},
   "outputs": [
    {
     "name": "stdout",
     "output_type": "stream",
     "text": [
      "<class 'tuple'>\n"
     ]
    }
   ],
   "source": [
    "t=()\n",
    "print(type(t))"
   ]
  },
  {
   "cell_type": "code",
   "execution_count": 13,
   "metadata": {},
   "outputs": [
    {
     "name": "stdout",
     "output_type": "stream",
     "text": [
      "['__add__', '__class__', '__contains__', '__delattr__', '__dir__', '__doc__', '__eq__', '__format__', '__ge__', '__getattribute__', '__getitem__', '__getnewargs__', '__gt__', '__hash__', '__init__', '__init_subclass__', '__iter__', '__le__', '__len__', '__lt__', '__mul__', '__ne__', '__new__', '__reduce__', '__reduce_ex__', '__repr__', '__rmul__', '__setattr__', '__sizeof__', '__str__', '__subclasshook__', 'count', 'index']\n"
     ]
    }
   ],
   "source": [
    "print(dir(tuple))"
   ]
  },
  {
   "cell_type": "code",
   "execution_count": 14,
   "metadata": {},
   "outputs": [
    {
     "name": "stdout",
     "output_type": "stream",
     "text": [
      "['__and__', '__class__', '__contains__', '__delattr__', '__dir__', '__doc__', '__eq__', '__format__', '__ge__', '__getattribute__', '__gt__', '__hash__', '__iand__', '__init__', '__init_subclass__', '__ior__', '__isub__', '__iter__', '__ixor__', '__le__', '__len__', '__lt__', '__ne__', '__new__', '__or__', '__rand__', '__reduce__', '__reduce_ex__', '__repr__', '__ror__', '__rsub__', '__rxor__', '__setattr__', '__sizeof__', '__str__', '__sub__', '__subclasshook__', '__xor__', 'add', 'clear', 'copy', 'difference', 'difference_update', 'discard', 'intersection', 'intersection_update', 'isdisjoint', 'issubset', 'issuperset', 'pop', 'remove', 'symmetric_difference', 'symmetric_difference_update', 'union', 'update']\n"
     ]
    }
   ],
   "source": [
    "print(dir(set))"
   ]
  },
  {
   "cell_type": "code",
   "execution_count": 15,
   "metadata": {},
   "outputs": [
    {
     "name": "stdout",
     "output_type": "stream",
     "text": [
      "(10, 20, 30) <class 'tuple'>\n"
     ]
    }
   ],
   "source": [
    "t1=(10,20,30)\n",
    "print(t1,type(t1))"
   ]
  },
  {
   "cell_type": "code",
   "execution_count": 16,
   "metadata": {},
   "outputs": [
    {
     "ename": "TypeError",
     "evalue": "'tuple' object does not support item assignment",
     "output_type": "error",
     "traceback": [
      "\u001b[1;31m---------------------------------------------------------------------------\u001b[0m",
      "\u001b[1;31mTypeError\u001b[0m                                 Traceback (most recent call last)",
      "\u001b[1;32m<ipython-input-16-c7bad9d4135c>\u001b[0m in \u001b[0;36m<module>\u001b[1;34m\u001b[0m\n\u001b[1;32m----> 1\u001b[1;33m \u001b[0mt1\u001b[0m\u001b[1;33m[\u001b[0m\u001b[1;36m0\u001b[0m\u001b[1;33m]\u001b[0m\u001b[1;33m=\u001b[0m\u001b[1;36m10\u001b[0m\u001b[1;33m\u001b[0m\u001b[1;33m\u001b[0m\u001b[0m\n\u001b[0m",
      "\u001b[1;31mTypeError\u001b[0m: 'tuple' object does not support item assignment"
     ]
    }
   ],
   "source": [
    "t1[0]=10"
   ]
  },
  {
   "cell_type": "code",
   "execution_count": 17,
   "metadata": {},
   "outputs": [
    {
     "name": "stdout",
     "output_type": "stream",
     "text": [
      "10\n",
      "(30,)\n"
     ]
    }
   ],
   "source": [
    "print(t1[0])\n",
    "print(t1[2:])"
   ]
  },
  {
   "cell_type": "code",
   "execution_count": null,
   "metadata": {},
   "outputs": [],
   "source": [
    "s=\"python\"\n",
    "s[1]='y'"
   ]
  },
  {
   "cell_type": "code",
   "execution_count": null,
   "metadata": {},
   "outputs": [],
   "source": [
    "#functions in avalible\n",
    "print(dir(t))"
   ]
  },
  {
   "cell_type": "code",
   "execution_count": 18,
   "metadata": {},
   "outputs": [
    {
     "name": "stdout",
     "output_type": "stream",
     "text": [
      "(10, 20, 30)\n",
      "0\n",
      "0\n"
     ]
    }
   ],
   "source": [
    "print(t1)\n",
    "print(t1.count(1))\n",
    "print(t1.count(5))"
   ]
  },
  {
   "cell_type": "code",
   "execution_count": 19,
   "metadata": {},
   "outputs": [
    {
     "name": "stdout",
     "output_type": "stream",
     "text": [
      "(10, 20, 30)\n"
     ]
    },
    {
     "ename": "ValueError",
     "evalue": "tuple.index(x): x not in tuple",
     "output_type": "error",
     "traceback": [
      "\u001b[1;31m---------------------------------------------------------------------------\u001b[0m",
      "\u001b[1;31mValueError\u001b[0m                                Traceback (most recent call last)",
      "\u001b[1;32m<ipython-input-19-bb4f49394f2c>\u001b[0m in \u001b[0;36m<module>\u001b[1;34m\u001b[0m\n\u001b[0;32m      1\u001b[0m \u001b[0mprint\u001b[0m\u001b[1;33m(\u001b[0m\u001b[0mt1\u001b[0m\u001b[1;33m)\u001b[0m\u001b[1;33m\u001b[0m\u001b[1;33m\u001b[0m\u001b[0m\n\u001b[1;32m----> 2\u001b[1;33m \u001b[0mprint\u001b[0m\u001b[1;33m(\u001b[0m\u001b[0mt1\u001b[0m\u001b[1;33m.\u001b[0m\u001b[0mindex\u001b[0m\u001b[1;33m(\u001b[0m\u001b[1;36m1\u001b[0m\u001b[1;33m)\u001b[0m\u001b[1;33m)\u001b[0m\u001b[1;33m\u001b[0m\u001b[1;33m\u001b[0m\u001b[0m\n\u001b[0m\u001b[0;32m      3\u001b[0m \u001b[0mprint\u001b[0m\u001b[1;33m(\u001b[0m\u001b[0mt1\u001b[0m\u001b[1;33m.\u001b[0m\u001b[0mindex\u001b[0m\u001b[1;33m(\u001b[0m\u001b[1;36m5\u001b[0m\u001b[1;33m)\u001b[0m\u001b[1;33m)\u001b[0m\u001b[1;33m\u001b[0m\u001b[1;33m\u001b[0m\u001b[0m\n",
      "\u001b[1;31mValueError\u001b[0m: tuple.index(x): x not in tuple"
     ]
    }
   ],
   "source": [
    "print(t1)\n",
    "print(t1.index(1))\n",
    "print(t1.index(5))"
   ]
  },
  {
   "cell_type": "code",
   "execution_count": null,
   "metadata": {},
   "outputs": [],
   "source": [
    "t2=(4,5)\n",
    "t1+t2"
   ]
  },
  {
   "cell_type": "code",
   "execution_count": null,
   "metadata": {},
   "outputs": [],
   "source": [
    "t1*t2"
   ]
  },
  {
   "cell_type": "code",
   "execution_count": null,
   "metadata": {},
   "outputs": [],
   "source": [
    "print(t1==t2)\n",
    "print(t1)\n",
    "print(t2)"
   ]
  },
  {
   "cell_type": "code",
   "execution_count": null,
   "metadata": {},
   "outputs": [],
   "source": [
    "(23,53)>(12,34,78)"
   ]
  },
  {
   "cell_type": "markdown",
   "metadata": {},
   "source": [
    " # set:it will display unique elements here index is not working(subscritable){}"
   ]
  },
  {
   "cell_type": "code",
   "execution_count": 16,
   "metadata": {},
   "outputs": [
    {
     "name": "stdout",
     "output_type": "stream",
     "text": [
      "['__and__', '__class__', '__contains__', '__delattr__', '__dir__', '__doc__', '__eq__', '__format__', '__ge__', '__getattribute__', '__gt__', '__hash__', '__iand__', '__init__', '__init_subclass__', '__ior__', '__isub__', '__iter__', '__ixor__', '__le__', '__len__', '__lt__', '__ne__', '__new__', '__or__', '__rand__', '__reduce__', '__reduce_ex__', '__repr__', '__ror__', '__rsub__', '__rxor__', '__setattr__', '__sizeof__', '__str__', '__sub__', '__subclasshook__', '__xor__', 'add', 'clear', 'copy', 'difference', 'difference_update', 'discard', 'intersection', 'intersection_update', 'isdisjoint', 'issubset', 'issuperset', 'pop', 'remove', 'symmetric_difference', 'symmetric_difference_update', 'union', 'update']\n"
     ]
    }
   ],
   "source": [
    "print(dir(set))"
   ]
  },
  {
   "cell_type": "code",
   "execution_count": null,
   "metadata": {},
   "outputs": [],
   "source": [
    "s={}\n",
    "print(type(s))"
   ]
  },
  {
   "cell_type": "code",
   "execution_count": null,
   "metadata": {},
   "outputs": [],
   "source": [
    "s=set()\n",
    "print(type(s))"
   ]
  },
  {
   "cell_type": "code",
   "execution_count": 18,
   "metadata": {},
   "outputs": [
    {
     "name": "stdout",
     "output_type": "stream",
     "text": [
      "{7, 10, 50, 20, 30}\n"
     ]
    }
   ],
   "source": [
    "s={10,20,30,10,50,7,30}\n",
    "print(s)#it will display unique values"
   ]
  },
  {
   "cell_type": "code",
   "execution_count": null,
   "metadata": {},
   "outputs": [],
   "source": [
    "unique=list(s)\n",
    "unique"
   ]
  },
  {
   "cell_type": "code",
   "execution_count": null,
   "metadata": {},
   "outputs": [],
   "source": [
    "print(dir(s))"
   ]
  },
  {
   "cell_type": "code",
   "execution_count": 19,
   "metadata": {},
   "outputs": [
    {
     "name": "stdout",
     "output_type": "stream",
     "text": [
      "{7, 10, 50, 20, 30}\n"
     ]
    }
   ],
   "source": [
    "\n",
    "print(s)"
   ]
  },
  {
   "cell_type": "code",
   "execution_count": 20,
   "metadata": {},
   "outputs": [
    {
     "name": "stdout",
     "output_type": "stream",
     "text": [
      "Help on built-in function discard:\n",
      "\n",
      "discard(...) method of builtins.set instance\n",
      "    Remove an element from a set if it is a member.\n",
      "    \n",
      "    If the element is not a member, do nothing.\n",
      "\n",
      "{7, 10, 50, 20, 30}\n",
      "None\n"
     ]
    }
   ],
   "source": [
    "help(s.discard)\n",
    "print(s)\n",
    "print(s.discard(50))"
   ]
  },
  {
   "cell_type": "code",
   "execution_count": 22,
   "metadata": {},
   "outputs": [
    {
     "name": "stdout",
     "output_type": "stream",
     "text": [
      "None\n"
     ]
    }
   ],
   "source": [
    "print(s.discard(2))"
   ]
  },
  {
   "cell_type": "markdown",
   "metadata": {},
   "source": [
    " # set Functions"
   ]
  },
  {
   "cell_type": "code",
   "execution_count": 22,
   "metadata": {},
   "outputs": [
    {
     "name": "stdout",
     "output_type": "stream",
     "text": [
      "{'hello', 10, 50, 60}\n"
     ]
    }
   ],
   "source": [
    "s={10,50,60,\"hello\"}\n",
    "print(s)"
   ]
  },
  {
   "cell_type": "code",
   "execution_count": 23,
   "metadata": {},
   "outputs": [
    {
     "name": "stdout",
     "output_type": "stream",
     "text": [
      "{'hello', 10, 50}\n"
     ]
    }
   ],
   "source": [
    "# to romove the element in the set\n",
    "s.remove(60)\n",
    "print(s)"
   ]
  },
  {
   "cell_type": "code",
   "execution_count": 24,
   "metadata": {},
   "outputs": [
    {
     "name": "stdout",
     "output_type": "stream",
     "text": [
      "{'hello', 10, 50, 60}\n"
     ]
    }
   ],
   "source": [
    "#to add the element\n",
    "s.add(60)\n",
    "print(s)"
   ]
  },
  {
   "cell_type": "code",
   "execution_count": 25,
   "metadata": {},
   "outputs": [
    {
     "name": "stdout",
     "output_type": "stream",
     "text": [
      "True\n",
      "False\n"
     ]
    }
   ],
   "source": [
    "#membership\n",
    "print(10 in s)\n",
    "print(70 in s)"
   ]
  },
  {
   "cell_type": "code",
   "execution_count": 26,
   "metadata": {},
   "outputs": [
    {
     "data": {
      "text/plain": [
       "{10, 50, 60, 80, 88, 90, 'hello'}"
      ]
     },
     "execution_count": 26,
     "metadata": {},
     "output_type": "execute_result"
    }
   ],
   "source": [
    "#union\n",
    "s1={\"hello\",80,88,90}\n",
    "s|s1#duplicate value is removed"
   ]
  },
  {
   "cell_type": "code",
   "execution_count": null,
   "metadata": {},
   "outputs": [],
   "source": [
    "s.clear()\n",
    "print(s)"
   ]
  },
  {
   "cell_type": "code",
   "execution_count": 27,
   "metadata": {},
   "outputs": [
    {
     "data": {
      "text/plain": [
       "{1, 4}"
      ]
     },
     "execution_count": 27,
     "metadata": {},
     "output_type": "execute_result"
    }
   ],
   "source": [
    "#intersection\n",
    "a={1,2,3,4,5}\n",
    "b={1,4,8,9,7}\n",
    "a&b# it display common value"
   ]
  },
  {
   "cell_type": "code",
   "execution_count": null,
   "metadata": {},
   "outputs": [],
   "source": [
    "#difference\n",
    "a-b#it will display only 'a' unique  value not 'b'"
   ]
  },
  {
   "cell_type": "code",
   "execution_count": null,
   "metadata": {},
   "outputs": [],
   "source": [
    "#semitrick difference\n",
    "a^b# not print common duplicate values"
   ]
  },
  {
   "cell_type": "code",
   "execution_count": null,
   "metadata": {},
   "outputs": [],
   "source": [
    "#size\n",
    "print(len(a))\n",
    "print(len(b))"
   ]
  },
  {
   "cell_type": "code",
   "execution_count": null,
   "metadata": {},
   "outputs": [],
   "source": [
    "#discard\n",
    "a={\"hello\",10,20,30,\"hai\"}\n",
    "a.discard(\"hai\")# it will remove the peticular element\n",
    "print(a)"
   ]
  },
  {
   "cell_type": "code",
   "execution_count": null,
   "metadata": {},
   "outputs": [],
   "source": [
    "c=a.copy()\n",
    "c"
   ]
  },
  {
   "cell_type": "code",
   "execution_count": null,
   "metadata": {},
   "outputs": [],
   "source": [
    "help(s.difference)"
   ]
  },
  {
   "cell_type": "code",
   "execution_count": null,
   "metadata": {},
   "outputs": [],
   "source": [
    "\n",
    "s1={23,45,67,23,45,4}\n",
    "s2={2,3,4,45,3,4}\n",
    "s3={100,2,3,45}\n",
    "print(s1.difference(s2))#Here Check the s1 with s2 it is  UNIQUE value in s1 , it will dispaly \n",
    "print(s2.difference(s1))#Here check the s2 with s1 it will dispaly unique values in s2 it will dispaly\n",
    "print(s1.difference(s1))\n",
    "print(s1.difference(s2,s3))#s1 check the s2 and s3 if any value is unique then wiil it dispaly"
   ]
  },
  {
   "cell_type": "code",
   "execution_count": null,
   "metadata": {},
   "outputs": [],
   "source": [
    "s10={10,20,30,40}\n",
    "s20={50,60,10,20,5}\n",
    "s30={90,60,70,30}\n",
    "print(s10.difference(s20))\n",
    "print(s20.difference(s10))\n",
    "print(s10.difference(s20,s30))\n"
   ]
  },
  {
   "cell_type": "code",
   "execution_count": null,
   "metadata": {},
   "outputs": [],
   "source": [
    "# Read the input from keyboard\n",
    "# i/p  \"23 44 67 92 99\"\n",
    "# o/p : [3,4,7,2,9]\n",
    "# Try the problem in two ways\n",
    "    # to update the same list \n",
    "    # to create a new list\n",
    "\n",
    "s=input()\n",
    "nums=s.split()\n",
    "out=[]\n",
    "for i in nums:\n",
    "    out.append(int(i[-1]))\n",
    "print(out)"
   ]
  },
  {
   "cell_type": "code",
   "execution_count": null,
   "metadata": {},
   "outputs": [],
   "source": [
    "s=input().split()\n",
    "for i in range(len(nums)):\n",
    "    nums[i]=int(nums[i][-1])\n",
    "print(nums)"
   ]
  },
  {
   "cell_type": "code",
   "execution_count": 2,
   "metadata": {},
   "outputs": [
    {
     "name": "stdout",
     "output_type": "stream",
     "text": [
      "10 20 30 \n",
      "40 50 60 \n",
      "70 80\n"
     ]
    },
    {
     "data": {
      "text/plain": [
       "[[10, 20, 30], [40, 50, 60], [70, 80]]"
      ]
     },
     "execution_count": 2,
     "metadata": {},
     "output_type": "execute_result"
    }
   ],
   "source": [
    "# Read the inputs from keyboard\n",
    "# i/p1: \"10 20 30 60 99\"\n",
    "# i/p2: \"7 6 9 11 9\"2\n",
    "# i/p3: \"56 78 89 9 52\"\n",
    "#o/p [[10,20,30,60,99],[7,6,9,11,9],[56,78,89,9,52]]\n",
    "\n",
    "#li2=input().split()\n",
    "#li3=input().split()\n",
    "out=[]\n",
    "for i in range(3):\n",
    "    li1=input().split()\n",
    "    for j in range(len(li1)):\n",
    "        li1[j]=int(li1[j])\n",
    "    out.append(li1)\n",
    "out"
   ]
  },
  {
   "cell_type": "code",
   "execution_count": null,
   "metadata": {},
   "outputs": [],
   "source": [
    "# Read the inputs from keyboard\n",
    "# i/p1: \"10 20 30 60 99\"\n",
    "# i/p2: \"7 6 9 11 9\"\n",
    "# o/p1: [3,2,3,5,0]\n",
    "# o/p2 : [1,3,3,5,11]\n",
    "#li1=[\"10,20,30,60\"]\n",
    "#li2=[\"7,6,9,11,]\n",
    "a=input().split()\n",
    "b=input().split()\n",
    "print(a)\n",
    "print(b)\n",
    "for i in range(len(a)):\n",
    "    a[i]=int(a[i])\n",
    "print(a)"
   ]
  },
  {
   "cell_type": "code",
   "execution_count": null,
   "metadata": {},
   "outputs": [],
   "source": []
  },
  {
   "cell_type": "code",
   "execution_count": 28,
   "metadata": {},
   "outputs": [
    {
     "name": "stdout",
     "output_type": "stream",
     "text": [
      "10 20\n",
      "3 4\n",
      "[1, 0]\n",
      "[1, 0]\n"
     ]
    }
   ],
   "source": [
    "a=input().split()\n",
    "b=input().split()\n",
    "out1=[]\n",
    "out2=[]\n",
    "for i in range(len(a)):\n",
    "    a[i]=int(a[i])\n",
    "    out1.append(int(a[i])%(int(b[i])))\n",
    "    out2.append(int(a[i])%(int(b[i])))\n",
    "    #out2.append(int(a[i])//(int(b[i])))\n",
    "print(out1)\n",
    "print(out2)\n"
   ]
  },
  {
   "cell_type": "code",
   "execution_count": 31,
   "metadata": {},
   "outputs": [
    {
     "name": "stdout",
     "output_type": "stream",
     "text": [
      "2\n",
      "ashok\n",
      "chanti\n"
     ]
    },
    {
     "data": {
      "text/plain": [
       "['ashok', 'chanti']"
      ]
     },
     "execution_count": 31,
     "metadata": {},
     "output_type": "execute_result"
    }
   ],
   "source": [
    "# Get the input from keyboard How many names you want to read\n",
    "# Read the names from keybord one by one. Store them in a list.\n",
    "li=int(input())\n",
    "out=[]\n",
    "for i in range (li):\n",
    "    out.append(input())\n",
    "out\n"
   ]
  },
  {
   "cell_type": "code",
   "execution_count": 36,
   "metadata": {},
   "outputs": [
    {
     "ename": "SyntaxError",
     "evalue": "invalid syntax (<ipython-input-36-1480fedf9a58>, line 4)",
     "output_type": "error",
     "traceback": [
      "\u001b[1;36m  File \u001b[1;32m\"<ipython-input-36-1480fedf9a58>\"\u001b[1;36m, line \u001b[1;32m4\u001b[0m\n\u001b[1;33m    for i in range (li):as\u001b[0m\n\u001b[1;37m                         ^\u001b[0m\n\u001b[1;31mSyntaxError\u001b[0m\u001b[1;31m:\u001b[0m invalid syntax\n"
     ]
    }
   ],
   "source": [
    "# update the same list with names as lowercase letters\n",
    "li=int(input())\n",
    "out=[]\n",
    "for i in range (li):as\n",
    "    out.append(input().lower())\n",
    "out"
   ]
  },
  {
   "cell_type": "code",
   "execution_count": 37,
   "metadata": {},
   "outputs": [
    {
     "data": {
      "text/plain": [
       "[]"
      ]
     },
     "execution_count": 37,
     "metadata": {},
     "output_type": "execute_result"
    }
   ],
   "source": [
    "# Get the names in a new list as output which starts with vowels\n",
    "empty=[]\n",
    "out=[]\n",
    "for i in  out :\n",
    "    if out[0] in 'aeiou':\n",
    "        empty.append(out)\n",
    "out"
   ]
  },
  {
   "cell_type": "code",
   "execution_count": 39,
   "metadata": {},
   "outputs": [
    {
     "ename": "SyntaxError",
     "evalue": "invalid syntax (<ipython-input-39-4f59fbdffe9e>, line 4)",
     "output_type": "error",
     "traceback": [
      "\u001b[1;36m  File \u001b[1;32m\"<ipython-input-39-4f59fbdffe9e>\"\u001b[1;36m, line \u001b[1;32m4\u001b[0m\n\u001b[1;33m    for i  in range name:\u001b[0m\n\u001b[1;37m                       ^\u001b[0m\n\u001b[1;31mSyntaxError\u001b[0m\u001b[1;31m:\u001b[0m invalid syntax\n"
     ]
    }
   ],
   "source": [
    "n=int(input())\n",
    "name=[]\n",
    "out=[]\n",
    "for i  in range name:\n",
    "    if name[-1] in\"aeiou\" and name[0] not in \"aeiou\":\n",
    "    out.append(name)   \n",
    "    if len(name)\n",
    "out"
   ]
  },
  {
   "cell_type": "code",
   "execution_count": null,
   "metadata": {},
   "outputs": [],
   "source": [
    "n=int(input())\n",
    "name=[]\n",
    "for i in range(n):\n",
    "    names.append(input())"
   ]
  },
  {
   "cell_type": "code",
   "execution_count": null,
   "metadata": {},
   "outputs": [
    {
     "name": "stdout",
     "output_type": "stream",
     "text": [
      "abc@gmail.com\n",
      "xyz@gmail.com\n",
      "mno@yahoo.com\n",
      "done\n",
      "['abc@gmail.com', 'xyz@gmail.com', 'mno@yahoo.com']\n"
     ]
    }
   ],
   "source": [
    "\n",
    "# Read the emails/names of a string from keyboard until the user enters 'done'.\n",
    "name2=[]\n",
    "while True:#Here with in the ture use cau any others\n",
    "    name=input()\n",
    "    if name=='done':\n",
    "        print(name2)\n",
    "    name2.append(name)"
   ]
  },
  {
   "cell_type": "code",
   "execution_count": 4,
   "metadata": {},
   "outputs": [
    {
     "name": "stdout",
     "output_type": "stream",
     "text": [
      "ashok@gmail.com\n",
      "chanti@yahoo.com\n",
      "done\n",
      "['ashok@gmail.com', 'chanti@yahoo.com']\n"
     ]
    }
   ],
   "source": [
    "# Read the emails of a string from keyboard until the user enters 'done'\n",
    "emails=[]\n",
    "while True:\n",
    "    email=input()\n",
    "    if email==\"done\":\n",
    "        break  \n",
    "    emails.append(email)\n",
    "print(emails)"
   ]
  },
  {
   "cell_type": "code",
   "execution_count": 11,
   "metadata": {},
   "outputs": [
    {
     "data": {
      "text/plain": [
       "['gmail.com', 'anxc.com', 'gmail.com', 'done']"
      ]
     },
     "execution_count": 11,
     "metadata": {},
     "output_type": "execute_result"
    }
   ],
   "source": [
    "#get the domain part=@gmail.com\n",
    "domain=[]\n",
    "for i in range (len(emails)):\n",
    "    domain.append(emails[i].split('@')[-1])\n",
    "domain"
   ]
  },
  {
   "cell_type": "code",
   "execution_count": 23,
   "metadata": {},
   "outputs": [
    {
     "name": "stdout",
     "output_type": "stream",
     "text": [
      "1\n"
     ]
    }
   ],
   "source": [
    "#get the only gmail.com domain\n",
    "c=0\n",
    "for i in range(len(emails)):\n",
    "    if emails[i].split('@')[-1]==\"gmail.com\":\n",
    "        c+=1\n",
    "print(c)"
   ]
  },
  {
   "cell_type": "code",
   "execution_count": 52,
   "metadata": {},
   "outputs": [
    {
     "data": {
      "text/plain": [
       "['gmail.com', 'yahoo.com', 'pzit.com', 'done']"
      ]
     },
     "execution_count": 52,
     "metadata": {},
     "output_type": "execute_result"
    }
   ],
   "source": [
    "#get the unique domain names form the list\n",
    "unique_domain=[]\n",
    "for i in domain:\n",
    "    if i not in unique_domain:\n",
    "        unique_domain.append(i)\n",
    "unique_domain"
   ]
  },
  {
   "cell_type": "code",
   "execution_count": 54,
   "metadata": {},
   "outputs": [
    {
     "data": {
      "text/plain": [
       "[['gmail.com', 1], ['yahoo.com', 1], ['pzit.com', 1], ['done', 1]]"
      ]
     },
     "execution_count": 54,
     "metadata": {},
     "output_type": "execute_result"
    }
   ],
   "source": [
    "#reading the mails form user\n",
    "#getting domains in anew list\n",
    "#with a specific domain how mails are there\n",
    "#unique domains as a list\n",
    "#o/p:[gmail.com=2][yahoo.com=3]\n",
    "domain_counts=[]\n",
    "c=0\n",
    "for i in  unique_domain:\n",
    "    domain_counts.append([i,domain.count(i)])\n",
    "domain_counts\n"
   ]
  },
  {
   "cell_type": "code",
   "execution_count": 50,
   "metadata": {},
   "outputs": [
    {
     "name": "stdout",
     "output_type": "stream",
     "text": [
      "['ashok@gmail.com', 'pallapu@gmail.com', 'traneer@pzit.com', 'chanti@yahoo.com', 'done']\n",
      "['gmail.com', 'yahoo.com', 'pzit.com', 'done']\n",
      "1\n",
      "['gmail.com', 'yahoo.com', 'pzit.com', 'done']\n"
     ]
    }
   ],
   "source": [
    "print(emails)\n",
    "print(domain)\n",
    "print(domain.count(\"gmail.com\"))\n",
    "print(unique_domain)"
   ]
  },
  {
   "cell_type": "code",
   "execution_count": 31,
   "metadata": {},
   "outputs": [
    {
     "name": "stdout",
     "output_type": "stream",
     "text": [
      "1\n"
     ]
    }
   ],
   "source": [
    "c=0\n",
    "for i in range(len(emails)):\n",
    "    if emails[i].split('@')[-1]==\"gmail.com\":\n",
    "        c+=1\n",
    "print(c)"
   ]
  },
  {
   "cell_type": "code",
   "execution_count": 4,
   "metadata": {},
   "outputs": [
    {
     "name": "stdout",
     "output_type": "stream",
     "text": [
      "abx@gmail.com\n",
      "done\n",
      "['abx@gmail.com']\n"
     ]
    }
   ],
   "source": [
    "emails=[]\n",
    "while True:\n",
    "    email=input()\n",
    "    if email==\"done\":\n",
    "        break\n",
    "    else:\n",
    "        emails.append(email)\n",
    "print(emails)\n",
    "        \n"
   ]
  },
  {
   "cell_type": "code",
   "execution_count": 6,
   "metadata": {},
   "outputs": [
    {
     "name": "stdout",
     "output_type": "stream",
     "text": [
      "asdc@gmail.com\n",
      "done\n",
      "['done']\n"
     ]
    }
   ],
   "source": [
    "emails=[]\n",
    "while True:\n",
    "    email=input()\n",
    "    \n",
    "    if email==\"done\":\n",
    "        emails.append(email)\n",
    "        break\n",
    "    \n",
    "        \n",
    "print(emails)"
   ]
  },
  {
   "cell_type": "code",
   "execution_count": 4,
   "metadata": {},
   "outputs": [
    {
     "name": "stdout",
     "output_type": "stream",
     "text": [
      "enter the number3\n",
      "1\n",
      "11\n",
      "[3, 'x', 1, '=', 3]\n",
      "[3, 'x', 2, '=', 6]\n",
      "[3, 'x', 3, '=', 9]\n",
      "[3, 'x', 4, '=', 12]\n",
      "[3, 'x', 5, '=', 15]\n",
      "[3, 'x', 6, '=', 18]\n",
      "[3, 'x', 7, '=', 21]\n",
      "[3, 'x', 8, '=', 24]\n",
      "[3, 'x', 9, '=', 27]\n",
      "[3, 'x', 10, '=', 30]\n",
      "[]\n"
     ]
    }
   ],
   "source": [
    "num=int(input(\"enter the number\"))\n",
    "ub=int(input())\n",
    "lb=int(input())\n",
    "out=[]\n",
    "for count in range(ub,lb):\n",
    "    print([num,\"x\",count,\"=\",num*count])\n",
    "print(out)"
   ]
  },
  {
   "cell_type": "code",
   "execution_count": null,
   "metadata": {},
   "outputs": [],
   "source": []
  }
 ],
 "metadata": {
  "kernelspec": {
   "display_name": "Python 3",
   "language": "python",
   "name": "python3"
  },
  "language_info": {
   "codemirror_mode": {
    "name": "ipython",
    "version": 3
   },
   "file_extension": ".py",
   "mimetype": "text/x-python",
   "name": "python",
   "nbconvert_exporter": "python",
   "pygments_lexer": "ipython3",
   "version": "3.7.4"
  }
 },
 "nbformat": 4,
 "nbformat_minor": 2
}
