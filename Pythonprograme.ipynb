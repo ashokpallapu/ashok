{
 "cells": [
  {
   "cell_type": "markdown",
   "metadata": {},
   "source": [
    " # conditional statements "
   ]
  },
  {
   "cell_type": "code",
   "execution_count": null,
   "metadata": {},
   "outputs": [],
   "source": [
    "x=10\n",
    "y=20\n",
    "if x>y:\n",
    "    print(\"true\")\n",
    "else:\n",
    "    print(\"false\")\n",
    "        \n",
    "    \n"
   ]
  },
  {
   "cell_type": "code",
   "execution_count": null,
   "metadata": {},
   "outputs": [],
   "source": [
    "n=int(input(\"Enthe the vale\" ))\n",
    "if n%2==0:\n",
    "    print(\"given no is even\")\n",
    "else:\n",
    "        print(\"given no is odd\")\n",
    "    \n"
   ]
  },
  {
   "cell_type": "code",
   "execution_count": 3,
   "metadata": {},
   "outputs": [
    {
     "name": "stdout",
     "output_type": "stream",
     "text": [
      "enter the number15\n",
      "given no is divisible by 3 and 5\n"
     ]
    }
   ],
   "source": [
    "## check whether the given number is divisible by 3 and 5\n",
    "n=int(input(\"enter the number\"))\n",
    "if n%3==0 and n%5==0:\n",
    "    print(\"given no is divisible by 3 and 5\")\n",
    "else:\n",
    "    print(\"given no is not divisible by 3 and 5\")"
   ]
  },
  {
   "cell_type": "code",
   "execution_count": 2,
   "metadata": {},
   "outputs": [
    {
     "name": "stdout",
     "output_type": "stream",
     "text": [
      "enthr any number10\n",
      "given num is possitive\n"
     ]
    }
   ],
   "source": [
    "##check the given num is possitive or negitive or zero\n",
    "n=int(input(\"enthr any number\"))\n",
    "if n==0:\n",
    "    print(\"given num is zero\")\n",
    "elif n>0:\n",
    "    print(\"given num is possitive\")\n",
    "else:\n",
    "    print(\"given num is negitive\")\n",
    "\n",
    "        "
   ]
  },
  {
   "cell_type": "markdown",
   "metadata": {},
   "source": [
    " # looping statements\n",
    " \n",
    "##using while condition\n"
   ]
  },
  {
   "cell_type": "code",
   "execution_count": 1,
   "metadata": {},
   "outputs": [
    {
     "name": "stdout",
     "output_type": "stream",
     "text": [
      "enter the limit :12\n",
      "1\n",
      "2\n",
      "3\n",
      "4\n",
      "5\n",
      "6\n",
      "7\n",
      "8\n",
      "9\n",
      "10\n",
      "11\n",
      "12\n"
     ]
    }
   ],
   "source": [
    "n=int(input(\"enter the limit :\"))\n",
    "i=1\n",
    "while i<=n :\n",
    "    print(i)\n",
    "    i=i+1"
   ]
  },
  {
   "cell_type": "code",
   "execution_count": 4,
   "metadata": {},
   "outputs": [
    {
     "name": "stdout",
     "output_type": "stream",
     "text": [
      "enter the range :12\n",
      "42\n"
     ]
    }
   ],
   "source": [
    "##print the sum of even num in a given range\n",
    "n=int(input(\"enter the range :\"))\n",
    "i=1\n",
    "even=0\n",
    "while i<=n :\n",
    "    if i%2==0 :\n",
    "        even =even+i\n",
    "    i=i+1\n",
    "print(even)\n"
   ]
  },
  {
   "cell_type": "code",
   "execution_count": 9,
   "metadata": {},
   "outputs": [
    {
     "name": "stdout",
     "output_type": "stream",
     "text": [
      "enter the input :9866115958\n",
      "8595116689"
     ]
    }
   ],
   "source": [
    "##to print reverse number\n",
    "##input :321\n",
    "##output 123\n",
    "\n",
    "n=int(input(\"enter the input :\"))\n",
    "while n!=0:\n",
    "    print(n%10,end=\"\")\n",
    "    n=n//10"
   ]
  },
  {
   "cell_type": "code",
   "execution_count": 7,
   "metadata": {},
   "outputs": [
    {
     "name": "stdout",
     "output_type": "stream",
     "text": [
      "123456789101112131415"
     ]
    }
   ],
   "source": [
    "##for loop\n",
    "n=15\n",
    "for i in range(1,n+1):\n",
    "    print(i,end = \"\")"
   ]
  },
  {
   "cell_type": "code",
   "execution_count": 16,
   "metadata": {},
   "outputs": [
    {
     "name": "stdout",
     "output_type": "stream",
     "text": [
      "1 2 3 4 5 6 7 8 9 10 11 12 13 14 "
     ]
    }
   ],
   "source": [
    "##break statement\n",
    "n=15\n",
    "\n",
    "for i in range(1,n+1):\n",
    "    print(i,end =\" \")\n",
    "    if i==14: #Here Terminate the loop in\" i\" th value\n",
    "        break\n",
    "    \n",
    "    "
   ]
  },
  {
   "cell_type": "code",
   "execution_count": 19,
   "metadata": {},
   "outputs": [
    {
     "name": "stdout",
     "output_type": "stream",
     "text": [
      "1  2  3  4  5  6  7  8  9  11  12  13  14  15  "
     ]
    }
   ],
   "source": [
    "##continue statement\n",
    "n=15\n",
    "for i in range(1,n+1):\n",
    "    if i == 10:# Here continue the loop ofter eliminating  \"i\" value\n",
    "        continue\n",
    "    print(i   , end = \"  \")\n",
    "        \n",
    "        \n",
    "            \n",
    "        \n",
    "   "
   ]
  },
  {
   "cell_type": "code",
   "execution_count": null,
   "metadata": {},
   "outputs": [],
   "source": [
    "name=[\"apple,bananna,cherry,mango\"]\n",
    "while name==\"bannna\":\n",
    "    break\n",
    "    print(name ,end=\"\")\n",
    "    \n"
   ]
  },
  {
   "cell_type": "markdown",
   "metadata": {},
   "source": [
    " # list \n",
    " ## list:list is immutable i.e the value will not change\n"
   ]
  },
  {
   "cell_type": "code",
   "execution_count": 20,
   "metadata": {},
   "outputs": [
    {
     "name": "stdout",
     "output_type": "stream",
     "text": [
      "[1, 'ashok', 10.5, True]\n",
      "['ashok', 10.5, True]\n",
      "10.5\n"
     ]
    }
   ],
   "source": [
    "l1=[1,\"ashok\",10.5,True]\n",
    "\n",
    "print(l1[0:4])\n",
    "print(l1[1:4])\n",
    "print(l1[2])"
   ]
  },
  {
   "cell_type": "markdown",
   "metadata": {},
   "source": [
    " # Reverce slicilng\n"
   ]
  },
  {
   "cell_type": "code",
   "execution_count": 28,
   "metadata": {},
   "outputs": [
    {
     "name": "stdout",
     "output_type": "stream",
     "text": [
      "[1, 2, 3, 4, 5, 8, 9, 10, 11]\n",
      "[2, 3, 4, 5, 8, 9, 10]\n",
      "11\n",
      "10\n"
     ]
    }
   ],
   "source": [
    "l1=[1,2,3,4,5,8,9,10,11]\n",
    "print(l1[0:])\n",
    "print(l1[1:-1])\n",
    "print(l1[-1])\n",
    "print(l1[-2])\n",
    "#print[l1(-3)]"
   ]
  },
  {
   "cell_type": "markdown",
   "metadata": {},
   "source": [
    " # append the list"
   ]
  },
  {
   "cell_type": "code",
   "execution_count": 24,
   "metadata": {},
   "outputs": [
    {
     "name": "stdout",
     "output_type": "stream",
     "text": [
      "[1, 2, 3, 4, 5, 6, 11]\n"
     ]
    }
   ],
   "source": [
    " l1=[1,2,3,4,5]\n",
    "len(l1)\n",
    "l1.append(6)\n",
    "#print(l1)\n",
    "#l1.insert(5,7)\n",
    "l1.insert(10,11)\n",
    "print(l1)\n",
    "#del l1[1]\n",
    "#print(l1)\n",
    "#for i in l1:\n",
    "   # print(i, end = \" \")"
   ]
  },
  {
   "cell_type": "markdown",
   "metadata": {},
   "source": [
    "\n",
    "  # membership operator"
   ]
  },
  {
   "cell_type": "code",
   "execution_count": 30,
   "metadata": {},
   "outputs": [
    {
     "name": "stdout",
     "output_type": "stream",
     "text": [
      "True\n",
      "False\n",
      "False\n"
     ]
    }
   ],
   "source": [
    "l1=[1,2,3,4,5,6]\n",
    "print(1 in l1)\n",
    "print(7 in l1)\n",
    "print(2 not in l1)"
   ]
  },
  {
   "cell_type": "markdown",
   "metadata": {},
   "source": [
    " # Functions in Python:Max ,Min ,Sum ,Count ,Sort,len"
   ]
  },
  {
   "cell_type": "code",
   "execution_count": null,
   "metadata": {},
   "outputs": [],
   "source": []
  },
  {
   "cell_type": "code",
   "execution_count": null,
   "metadata": {},
   "outputs": [],
   "source": [
    "l1=[1,2,3,4,3,53]\n",
    "\n",
    "print(l1.count(3))\n",
    "#print(l1.sort())\n",
    "print(l1)\n",
    "print(l1[::2])\n",
    "print(l1[:])\n",
    "\n",
    "l2=[1,2,3,4,5]\n",
    "print(l2[::2])\n",
    "print(max(l1))\n",
    "print(min(l1))\n",
    "print(sum(l1))\n",
    "print(len(l1))\n",
    "print(sum(l1)/len(l1))\n",
    "#print(sum(l1)//len(l1))"
   ]
  },
  {
   "cell_type": "code",
   "execution_count": null,
   "metadata": {},
   "outputs": [],
   "source": [
    "list=[10,\"ashok\",10.5,True]\n",
    "print(max(list))\n"
   ]
  },
  {
   "cell_type": "markdown",
   "metadata": {},
   "source": [
    " # function:pop() extend(),remove(),index()"
   ]
  },
  {
   "cell_type": "code",
   "execution_count": 57,
   "metadata": {},
   "outputs": [
    {
     "name": "stdout",
     "output_type": "stream",
     "text": [
      "3\n",
      "[1, 2, 4, 5]\n"
     ]
    }
   ],
   "source": [
    "l1=[1,2,3,4,5]\n",
    "#print(l1.pop())\n",
    "print(l1.pop(2))\n",
    "#del l1[3]\n",
    "print(l1)"
   ]
  },
  {
   "cell_type": "code",
   "execution_count": 32,
   "metadata": {},
   "outputs": [
    {
     "name": "stdout",
     "output_type": "stream",
     "text": [
      "[1, 2, 3, 4, 5, 11, 12, 13]\n"
     ]
    }
   ],
   "source": [
    "#extend():it can be used assign the values to one list to another list\n",
    "l1=[1,2,3,4,5]\n",
    "l2=[6,7,8,9,10]\n",
    "l3=[11,12,13]\n",
    "(l1.extend(l3))\n",
    "print(l1)"
   ]
  },
  {
   "cell_type": "code",
   "execution_count": 47,
   "metadata": {},
   "outputs": [
    {
     "name": "stdout",
     "output_type": "stream",
     "text": [
      "1\n"
     ]
    }
   ],
   "source": [
    "#index():it can be used to identify the indexing values of given list\n",
    "l1=[1,2,3,4,5,6]\n",
    "print(l1.index(2))"
   ]
  },
  {
   "cell_type": "code",
   "execution_count": 65,
   "metadata": {},
   "outputs": [
    {
     "ename": "SyntaxError",
     "evalue": "can't delete literal (<ipython-input-65-6f7f9c68bc9b>, line 3)",
     "output_type": "error",
     "traceback": [
      "\u001b[1;36m  File \u001b[1;32m\"<ipython-input-65-6f7f9c68bc9b>\"\u001b[1;36m, line \u001b[1;32m3\u001b[0m\n\u001b[1;33m    del[2]\u001b[0m\n\u001b[1;37m      ^\u001b[0m\n\u001b[1;31mSyntaxError\u001b[0m\u001b[1;31m:\u001b[0m can't delete literal\n"
     ]
    }
   ],
   "source": [
    "#del():\n",
    "l1=[10,20,30,40,50,60,70]\n",
    "del[2]\n",
    "print(l1)"
   ]
  },
  {
   "cell_type": "markdown",
   "metadata": {},
   "source": [
    " # Day 4 Tasks\n",
    " "
   ]
  },
  {
   "cell_type": "code",
   "execution_count": null,
   "metadata": {},
   "outputs": [],
   "source": [
    "##Find out the sum of even number in given range \n",
    "n=int(input(\"enter the range\"))\n",
    "i=1\n",
    "t=0\n",
    "while i<=n:\n",
    "    if i%2==0 :\n",
    "        t=t+i\n",
    "    i=i+1\n",
    "print(t)"
   ]
  },
  {
   "cell_type": "code",
   "execution_count": null,
   "metadata": {},
   "outputs": [],
   "source": [
    "##to print the given string is reverse order\n",
    "name=\"Ashok3139\"\n",
    "print(name[::-1])"
   ]
  },
  {
   "cell_type": "code",
   "execution_count": null,
   "metadata": {},
   "outputs": [],
   "source": [
    "##print the numbers between two limits\n",
    "i=11\n",
    "n=25\n",
    "while i<=n :\n",
    "    print(i,end =\" \")\n",
    "    i=i+1\n",
    "    "
   ]
  },
  {
   "cell_type": "code",
   "execution_count": null,
   "metadata": {},
   "outputs": [],
   "source": [
    "##print the largest numbere in given range\n",
    "l1=[11,22,23,44,55]\n",
    "print(min(l1))\n",
    "print(max(l1))"
   ]
  },
  {
   "cell_type": "code",
   "execution_count": null,
   "metadata": {},
   "outputs": [],
   "source": [
    "##print the given string in spaces and swap\n",
    "n1=\"abc\"\n",
    "n2=\"xyz\"\n",
    "t=n1+n2\n",
    "print(sum(t))\n",
    "print([::-2])"
   ]
  },
  {
   "cell_type": "code",
   "execution_count": null,
   "metadata": {},
   "outputs": [],
   "source": [
    "list li=[1,2,3,4]"
   ]
  },
  {
   "cell_type": "markdown",
   "metadata": {},
   "source": [
    " # Tuple:Tuple are Immutable means the value will not change,tuple is declared only()."
   ]
  },
  {
   "cell_type": "code",
   "execution_count": null,
   "metadata": {},
   "outputs": [],
   "source": [
    "\n",
    "t=(10,\"ashok\",5.6,True)\n",
    "print(t)\n",
    "print(type(t))\n",
    "print(t[2])"
   ]
  },
  {
   "cell_type": "markdown",
   "metadata": {},
   "source": [
    " # Dictionary:It is   muttable we can change values or items Dictionary are stored in \"{ }\""
   ]
  },
  {
   "cell_type": "code",
   "execution_count": 61,
   "metadata": {},
   "outputs": [
    {
     "name": "stdout",
     "output_type": "stream",
     "text": [
      "{'Gitam': 'Dhanyatha', 'KPHB': 'Hus Board', 'hyd': 'sec'}\n",
      "{'ashok': 0, 'chanti': 1992}\n"
     ]
    }
   ],
   "source": [
    "d={\"Gitam\":\"Dhanyatha\",\"KPHB\":\"Hus Board\",\"hyd\":\"sec\"}\n",
    "print(d)\n",
    "d1={\"ashok\":0,\"chanti\":1992}\n",
    "print(d1)\n"
   ]
  },
  {
   "cell_type": "code",
   "execution_count": null,
   "metadata": {},
   "outputs": [],
   "source": [
    "d.keys()"
   ]
  },
  {
   "cell_type": "code",
   "execution_count": null,
   "metadata": {},
   "outputs": [],
   "source": [
    "d.values()"
   ]
  },
  {
   "cell_type": "markdown",
   "metadata": {},
   "source": [
    "# using the dic method get() to retiview the values from dic\n"
   ]
  },
  {
   "cell_type": "code",
   "execution_count": null,
   "metadata": {},
   "outputs": [],
   "source": [
    "print(d[\"KPHB\"])"
   ]
  },
  {
   "cell_type": "markdown",
   "metadata": {},
   "source": [
    " # in other ways to get the varible d"
   ]
  },
  {
   "cell_type": "code",
   "execution_count": null,
   "metadata": {},
   "outputs": [],
   "source": [
    "x=d.get(\"Gitam\")\n",
    "print(x)"
   ]
  },
  {
   "cell_type": "code",
   "execution_count": null,
   "metadata": {},
   "outputs": [],
   "source": [
    "x=d.get(\"hyd\")\n",
    "print(x)"
   ]
  },
  {
   "cell_type": "code",
   "execution_count": null,
   "metadata": {},
   "outputs": [],
   "source": [
    "#To add the values in dic\n",
    "d[\"ashok\"]=1992\n",
    "d[\"chanti\"]=1993\n",
    "print(d)\n",
    "d[\"Suma\"]=1992\n",
    "print(d)"
   ]
  },
  {
   "cell_type": "code",
   "execution_count": null,
   "metadata": {},
   "outputs": [],
   "source": [
    "d.items()"
   ]
  },
  {
   "cell_type": "code",
   "execution_count": null,
   "metadata": {},
   "outputs": [],
   "source": [
    "#using the key word to delete the dic value\n",
    "del d[\"hyd\"]\n",
    "print(d)\n",
    "del d[\"ashok\"]\n",
    "print(d)"
   ]
  },
  {
   "cell_type": "code",
   "execution_count": null,
   "metadata": {},
   "outputs": [],
   "source": [
    "print(d)\n",
    "# delete value using pop()\n",
    "d.pop(\"ashok\")\n",
    "print(d)"
   ]
  },
  {
   "cell_type": "code",
   "execution_count": null,
   "metadata": {},
   "outputs": [],
   "source": [
    "#clear() return the empty dictnary\n",
    "d.clear()"
   ]
  },
  {
   "cell_type": "code",
   "execution_count": null,
   "metadata": {},
   "outputs": [],
   "source": [
    "print(d)"
   ]
  },
  {
   "cell_type": "markdown",
   "metadata": {},
   "source": [
    " # Looping with Dictionary"
   ]
  },
  {
   "cell_type": "code",
   "execution_count": null,
   "metadata": {},
   "outputs": [],
   "source": [
    "print(d)\n",
    "for i in d.items():\n",
    "    print(i)"
   ]
  },
  {
   "cell_type": "code",
   "execution_count": null,
   "metadata": {},
   "outputs": [],
   "source": [
    "for i in d.values():\n",
    "    print(i)"
   ]
  },
  {
   "cell_type": "code",
   "execution_count": null,
   "metadata": {},
   "outputs": [],
   "source": [
    "for i in d :\n",
    "    print(i)"
   ]
  },
  {
   "cell_type": "code",
   "execution_count": null,
   "metadata": {},
   "outputs": [],
   "source": [
    "#1 to romove the first last items in the list\n",
    "l1=[\"red\",\"green\",\"blue\",\"yellow\",\"orange\"]\n",
    "print(l1[1:4])"
   ]
  },
  {
   "cell_type": "code",
   "execution_count": null,
   "metadata": {},
   "outputs": [],
   "source": [
    "# 2 To remove the duplicate items in the list\n",
    "l2={\"ashok\":\"hyd\",\"chanti\":\"bombay\",\"ashok\":\"hyd\",\"priya\":\"thirupathi\",\"chanti\":\"bombay\"}\n",
    "print(l2)"
   ]
  },
  {
   "cell_type": "code",
   "execution_count": null,
   "metadata": {},
   "outputs": [],
   "source": [
    "#to create the list in sorting order\n",
    "l3=[1,2,10,5,8,9]\n",
    "x=l3.sort()\n",
    "print(x)"
   ]
  },
  {
   "cell_type": "code",
   "execution_count": null,
   "metadata": {},
   "outputs": [],
   "source": [
    "# 4 to display the given string count the repeted characters\n",
    "s=\"dhyanahita\"\n",
    "for k in s:\n",
    "    a=s.count(k)\n",
    "\n",
    "for i in s:\n",
    "    a=s.count()\n",
    "print(i,a)\n",
    "        "
   ]
  },
  {
   "cell_type": "code",
   "execution_count": null,
   "metadata": {},
   "outputs": [],
   "source": [
    "\n"
   ]
  },
  {
   "cell_type": "code",
   "execution_count": null,
   "metadata": {},
   "outputs": [],
   "source": [
    "#5 to print the second smallest number of the given list\n",
    "l4=[1,2,3,4,5,6,7]\n",
    "print(min(l4)+1)\n",
    "\n"
   ]
  },
  {
   "cell_type": "code",
   "execution_count": null,
   "metadata": {},
   "outputs": [],
   "source": [
    "# 6 to create tuple and print the one item in tuple\n",
    "t=(1,\"ashok\",10.5,True)\n",
    "print(t)\n",
    "print(t[2])"
   ]
  },
  {
   "cell_type": "code",
   "execution_count": null,
   "metadata": {},
   "outputs": [],
   "source": [
    "# 10 to convert list of characters into string format\n",
    "list=[\"a\",\"b\",\"c\",\"d\"]\n",
    "for i in list:\n",
    "    print(i,end=\"\")\n",
    "type(i)"
   ]
  },
  {
   "cell_type": "code",
   "execution_count": null,
   "metadata": {},
   "outputs": [],
   "source": [
    "# 7 to create the list and convert into tuple\n",
    "l6=[1,\"ashok\",10.5,True]\n",
    "t=tuple(l6)\n",
    "print(t)"
   ]
  },
  {
   "cell_type": "code",
   "execution_count": null,
   "metadata": {},
   "outputs": [],
   "source": [
    "#9 to print the 5 consegitive num"
   ]
  },
  {
   "cell_type": "markdown",
   "metadata": {},
   "source": [
    "### 3. Write a Python program to get a list, sorted in increasing order by the last element in each tuple from a given list of non-empty tuples.\n",
    "Sample List : [(2, 5), (1, 2), (4, 4), (2, 3), (2, 1)]\n",
    "Expected Result : [(2, 1), (1, 2), (2, 3), (4, 4), (2, 5)]"
   ]
  },
  {
   "cell_type": "code",
   "execution_count": null,
   "metadata": {},
   "outputs": [],
   "source": [
    "def display(tuples):\n",
    "    return sorted(tuples,key=last)\n",
    "print(display( [(2, 5), (1, 2), (4, 4), (2, 3), (2, 1)]))"
   ]
  },
  {
   "cell_type": "code",
   "execution_count": null,
   "metadata": {},
   "outputs": [],
   "source": [
    "a=10\n",
    "b=str(a)\n",
    "print(b)\n",
    "print(type(b))\n"
   ]
  },
  {
   "cell_type": "code",
   "execution_count": null,
   "metadata": {},
   "outputs": [],
   "source": [
    "s='abcdef'\n",
    "print(s[3:5])"
   ]
  },
  {
   "cell_type": "markdown",
   "metadata": {},
   "source": [
    " # Functions"
   ]
  },
  {
   "cell_type": "code",
   "execution_count": null,
   "metadata": {},
   "outputs": [],
   "source": [
    "#function:Function is Block of code that was exicuted when will cal it\n",
    "#syx: def funname(args)\n",
    "#######statements#####\n",
    "#ex additions of two numbers\n",
    "#possitinal arguments\n",
    "def add(a,b):   \n",
    "    z=a+b\n",
    "    print(z)\n",
    "add(10,15)\n",
    "    "
   ]
  },
  {
   "cell_type": "code",
   "execution_count": null,
   "metadata": {},
   "outputs": [],
   "source": [
    "#task :print even num using function\n",
    "a=int(input(\"enter the value : \"))\n",
    "def evennum(a):\n",
    "    if a%2==0 :\n",
    "        print(\"a is even number\")\n",
    "    else :\n",
    "        print(\"a is odd number\")\n",
    "evennum(a)\n",
    "     "
   ]
  },
  {
   "cell_type": "code",
   "execution_count": null,
   "metadata": {},
   "outputs": [],
   "source": [
    "#print the infinte range values\n",
    "def evennum():\n",
    "    for i in range(1,10):\n",
    "        if i%2==0 : \n",
    "            print(i,\"even numbers\")\n",
    "        else :\n",
    "            print(i,\"odd num\")\n",
    "evennum()"
   ]
  },
  {
   "cell_type": "markdown",
   "metadata": {},
   "source": [
    " # Types of Arguments\n",
    "  ## 1.Default arg\n",
    " ## 2.possitinal args\n",
    " ## 3.key word args\n",
    " ## 4.varible length arg"
   ]
  },
  {
   "cell_type": "code",
   "execution_count": null,
   "metadata": {},
   "outputs": [],
   "source": [
    "#default args\n",
    "def add(a=10,b=20):\n",
    "    z=a+b\n",
    "    print(z)\n",
    "add()"
   ]
  },
  {
   "cell_type": "code",
   "execution_count": null,
   "metadata": {},
   "outputs": [],
   "source": [
    "#keyword arg:\n",
    "def display(firstname,lastname):\n",
    "    print(firstname,lastname)\n",
    "display(lastname=\"chanti\",firstname=\"ashok\")"
   ]
  },
  {
   "cell_type": "code",
   "execution_count": null,
   "metadata": {},
   "outputs": [],
   "source": [
    "#varible length arguments:it can * operator it can store multiple values in the form list\n",
    "def display(*a):\n",
    "    print(a)\n",
    "display([1,2,3,4,\"ashok\",10.5,True])"
   ]
  },
  {
   "cell_type": "code",
   "execution_count": 9,
   "metadata": {},
   "outputs": [
    {
     "name": "stdout",
     "output_type": "stream",
     "text": [
      "enter tne num10\n",
      "10\n"
     ]
    }
   ],
   "source": [
    "#user arguments\n",
    "def display(n):\n",
    "    n=int(input(\"enter tne num\"))\n",
    "    print(n)\n",
    "display(n)"
   ]
  },
  {
   "cell_type": "code",
   "execution_count": 8,
   "metadata": {},
   "outputs": [
    {
     "name": "stdout",
     "output_type": "stream",
     "text": [
      "1 2 3 6 "
     ]
    }
   ],
   "source": [
    "#task:factors of a given num\n",
    "def fact(n=6):\n",
    "    for i in range(1,n+1):\n",
    "        if n%i==0 :\n",
    "            print(i,end =\" \")\n",
    "    \n",
    "fact()\n"
   ]
  },
  {
   "cell_type": "code",
   "execution_count": null,
   "metadata": {},
   "outputs": [],
   "source": [
    "#taken user aruguments\n",
    "def fact(n):\n",
    "    n=int(input(\"enter the num\"))\n",
    "    for i in range(1,n+1):\n",
    "        if n%i==0 :\n",
    "           # print(n)\n",
    "            print(i,end =\" \")\n",
    "    \n",
    "fact(n)"
   ]
  },
  {
   "cell_type": "code",
   "execution_count": 7,
   "metadata": {},
   "outputs": [
    {
     "name": "stdout",
     "output_type": "stream",
     "text": [
      "enter the num6\n",
      "1 2 3 6 "
     ]
    }
   ],
   "source": [
    "#write a programme to the factroies of given number\n",
    "#taken user aruguments\n",
    "n=0\n",
    "def fact(n):\n",
    "    n=int(input(\"enter the num\"))\n",
    "    for i in range(1,n+1):\n",
    "        if n%i==0 :\n",
    "            \n",
    "            print(i,end =\" \")\n",
    "    \n",
    "fact(n)"
   ]
  },
  {
   "cell_type": "code",
   "execution_count": 2,
   "metadata": {},
   "outputs": [
    {
     "name": "stdout",
     "output_type": "stream",
     "text": [
      "enter the first num10\n",
      "enter the second num20\n",
      "enter third num15\n",
      "y is large\n"
     ]
    }
   ],
   "source": [
    "# write a programme functions to find the largest of 3 num\n",
    "x=int(input(\"enter the first num\"))\n",
    "y=int(input(\"enter the second num\"))\n",
    "z=int(input(\"enter third num\"))\n",
    "def largenum(x,y,z):\n",
    "    if x>=y and x>=z :\n",
    "        print(\"x is large\")\n",
    "    elif y>=z :\n",
    "        print(\"y is large\")\n",
    "    else : \n",
    "        print (\"z is large\")\n",
    "        \n",
    "largenum(x,y,z)\n",
    "\n"
   ]
  },
  {
   "cell_type": "code",
   "execution_count": 92,
   "metadata": {
    "scrolled": true
   },
   "outputs": [
    {
     "name": "stdout",
     "output_type": "stream",
     "text": [
      "emter the starting number1\n",
      "enter the range9\n",
      "enter choosing no:10\n"
     ]
    },
    {
     "data": {
      "text/plain": [
       "False"
      ]
     },
     "execution_count": 92,
     "metadata": {},
     "output_type": "execute_result"
    }
   ],
   "source": [
    "#write the programee to print the values in given range\n",
    "x=int(input(\"emter the starting number\"))\n",
    "y=int(input(\"enter the range\"))\n",
    "n=int(input(\"enter choosing no:\"))\n",
    "def ranges():\n",
    "    for i in range(x,y):\n",
    "        if i==n:\n",
    "            return True\n",
    "    return False\n",
    "\n",
    "ranges()\n",
    "    \n"
   ]
  },
  {
   "cell_type": "code",
   "execution_count": 97,
   "metadata": {},
   "outputs": [
    {
     "data": {
      "text/plain": [
       "5"
      ]
     },
     "execution_count": 97,
     "metadata": {},
     "output_type": "execute_result"
    }
   ],
   "source": [
    "#To print the large digit of the given number\n",
    "\n",
    "def check(n):\n",
    "    i=0\n",
    "    while n!=0 :\n",
    "        r=n%10\n",
    "        if r>i :\n",
    "            i=r\n",
    "            n=n//10\n",
    "            return i #Here return statement is used out of the statement also but we can use the return statement\n",
    "check(12345)\n",
    "    "
   ]
  },
  {
   "cell_type": "code",
   "execution_count": 47,
   "metadata": {},
   "outputs": [
    {
     "name": "stdout",
     "output_type": "stream",
     "text": [
      "enter the num4\n"
     ]
    },
    {
     "data": {
      "text/plain": [
       "24"
      ]
     },
     "execution_count": 47,
     "metadata": {},
     "output_type": "execute_result"
    }
   ],
   "source": [
    "# To print the factorial of given number\n",
    "n=int(input(\"enter the num\"))\n",
    "def fact(n):\n",
    "    if n==1:\n",
    "        return 1\n",
    "    else :\n",
    "        return n*fact(n-1)  \n",
    "fact(n)"
   ]
  },
  {
   "cell_type": "code",
   "execution_count": 46,
   "metadata": {},
   "outputs": [
    {
     "data": {
      "text/plain": [
       "24"
      ]
     },
     "execution_count": 46,
     "metadata": {},
     "output_type": "execute_result"
    }
   ],
   "source": [
    "fact(4)"
   ]
  },
  {
   "cell_type": "code",
   "execution_count": 87,
   "metadata": {},
   "outputs": [
    {
     "name": "stdout",
     "output_type": "stream",
     "text": [
      "enter the range5\n",
      "0 1 1 2 3 5 8 "
     ]
    }
   ],
   "source": [
    "#to print the febbaosic serires of given number\n",
    "\n",
    "n=int(input(\"enter the range\"))\n",
    "def fibb(n):\n",
    "    f1=0\n",
    "    f2=1\n",
    "    t=0\n",
    "    if n<=0 :\n",
    "        print(f1)\n",
    "    else :\n",
    "        print(f1, end=\" \")\n",
    "        print(f2, end=\" \")\n",
    "        for i in range(1,n+1):\n",
    "            t=f1+f2\n",
    "            print(t,end= \" \")\n",
    "            f1=f2\n",
    "            f2=t\n",
    "\n",
    "fibb(n)"
   ]
  },
  {
   "cell_type": "markdown",
   "metadata": {},
   "source": [
    " # set"
   ]
  },
  {
   "cell_type": "code",
   "execution_count": 6,
   "metadata": {},
   "outputs": [
    {
     "ename": "IndentationError",
     "evalue": "unexpected indent (<ipython-input-6-71f24950ffc6>, line 2)",
     "output_type": "error",
     "traceback": [
      "\u001b[1;36m  File \u001b[1;32m\"<ipython-input-6-71f24950ffc6>\"\u001b[1;36m, line \u001b[1;32m2\u001b[0m\n\u001b[1;33m    it can stored any type of value like int string float bool....\u001b[0m\n\u001b[1;37m    ^\u001b[0m\n\u001b[1;31mIndentationError\u001b[0m\u001b[1;31m:\u001b[0m unexpected indent\n"
     ]
    }
   ],
   "source": [
    "#set:set is a unordered and unindexed it is represented by {} \n",
    "    it can stored any type of value like int string float bool....\n",
    "    it can perform mathametical opertaions \n",
    "    delete function is not workig in set{}\n",
    "\n",
    "    \n",
    "    \n",
    "    "
   ]
  },
  {
   "cell_type": "code",
   "execution_count": 10,
   "metadata": {},
   "outputs": [
    {
     "name": "stdout",
     "output_type": "stream",
     "text": [
      "<class 'dict'>\n"
     ]
    }
   ],
   "source": [
    " s10={}\n",
    "print(type(s10))"
   ]
  },
  {
   "cell_type": "code",
   "execution_count": 11,
   "metadata": {},
   "outputs": [
    {
     "name": "stdout",
     "output_type": "stream",
     "text": [
      "{'ashok', 'chanti', 3139, 12}\n"
     ]
    }
   ],
   "source": [
    "s11={\"ashok\",3139,\"chanti\",12}\n",
    "print(s11)"
   ]
  },
  {
   "cell_type": "code",
   "execution_count": 1,
   "metadata": {},
   "outputs": [
    {
     "name": "stdout",
     "output_type": "stream",
     "text": [
      "{1, 2, 3, 'ashok', 'chanti', 1020}\n"
     ]
    }
   ],
   "source": [
    "s={1,2,3}\n",
    "s.update([\"ashok\",1020,\"chanti\"])\n",
    "print(s)"
   ]
  },
  {
   "cell_type": "code",
   "execution_count": 16,
   "metadata": {},
   "outputs": [
    {
     "name": "stdout",
     "output_type": "stream",
     "text": [
      "{'chanti', 1, 2, 3, 'ramesh', 'ashok', 1020}\n"
     ]
    }
   ],
   "source": [
    "s.add('ramesh')\n",
    "print(s)"
   ]
  },
  {
   "cell_type": "code",
   "execution_count": 18,
   "metadata": {},
   "outputs": [
    {
     "data": {
      "text/plain": [
       "{2, 3, 4, 5}"
      ]
     },
     "execution_count": 18,
     "metadata": {},
     "output_type": "execute_result"
    }
   ],
   "source": [
    "s1={1,2,3,4,5}\n",
    "s2={2,3,5,6,7,4}\n",
    "s1.union(s2)\n",
    "s1.intersection(s2)"
   ]
  },
  {
   "cell_type": "code",
   "execution_count": 47,
   "metadata": {},
   "outputs": [
    {
     "name": "stdout",
     "output_type": "stream",
     "text": [
      "{3, 4, 5, 'priya', 'ashok'}\n",
      "{'ashok', 10, 20, 'chanti', 30}\n"
     ]
    }
   ],
   "source": [
    "#s3={5,2,4,3,\"ashok\",\"priya\"}\n",
    "s4={10,20,30,\"ashok\",\"chanti\"}\n",
    "#s3.pop()\n",
    "print(s3)\n",
    "#s4.pop()\n",
    "print(s4)"
   ]
  },
  {
   "cell_type": "code",
   "execution_count": 21,
   "metadata": {},
   "outputs": [
    {
     "name": "stdout",
     "output_type": "stream",
     "text": [
      "{2, 'priya', 'ashok'}\n"
     ]
    }
   ],
   "source": [
    "s3.remove(3)\n",
    "print(s3)"
   ]
  },
  {
   "cell_type": "code",
   "execution_count": 59,
   "metadata": {},
   "outputs": [
    {
     "name": "stdout",
     "output_type": "stream",
     "text": [
      "{'ashok', 10, 10.5, 20}\n",
      "{'ashok', 10, 20}\n",
      "{'ashok', 'chanti', 10, 20, 30}\n",
      "{'ashok', 10, 20, 30}\n"
     ]
    }
   ],
   "source": [
    "# Discard:\"it can perform set{} only it gives the perticular value of set that valus is discard(delete) in the set{}\n",
    "s4={10,\"ashok\",10.5,20}\n",
    "print(s4)\n",
    "s4.discard(10.5)#this is one of the value of the set\n",
    "print(s4)\n",
    "s5={10,20,30,\"ashok\",\"chanti\"}\n",
    "print(s5)\n",
    "s5.discard(\"chanti\")#this is one of value of the set\n",
    "print(s5)"
   ]
  },
  {
   "cell_type": "code",
   "execution_count": 25,
   "metadata": {},
   "outputs": [
    {
     "name": "stdout",
     "output_type": "stream",
     "text": [
      "set()\n"
     ]
    }
   ],
   "source": [
    "a={1,2,3,\"ashok\"}\n",
    "a.clear()\n",
    "print(a)"
   ]
  },
  {
   "cell_type": "code",
   "execution_count": 39,
   "metadata": {},
   "outputs": [
    {
     "ename": "TypeError",
     "evalue": "'set' object doesn't support item deletion",
     "output_type": "error",
     "traceback": [
      "\u001b[1;31m---------------------------------------------------------------------------\u001b[0m",
      "\u001b[1;31mTypeError\u001b[0m                                 Traceback (most recent call last)",
      "\u001b[1;32m<ipython-input-39-9f84c0dc95a8>\u001b[0m in \u001b[0;36m<module>\u001b[1;34m\u001b[0m\n\u001b[0;32m      1\u001b[0m \u001b[0md\u001b[0m\u001b[1;33m=\u001b[0m\u001b[1;33m{\u001b[0m\u001b[1;36m1\u001b[0m\u001b[1;33m,\u001b[0m\u001b[1;36m5\u001b[0m\u001b[1;33m,\u001b[0m\u001b[1;36m6\u001b[0m\u001b[1;33m,\u001b[0m\u001b[1;36m8\u001b[0m\u001b[1;33m,\u001b[0m\u001b[1;36m9\u001b[0m\u001b[1;33m}\u001b[0m\u001b[1;33m\u001b[0m\u001b[1;33m\u001b[0m\u001b[0m\n\u001b[1;32m----> 2\u001b[1;33m \u001b[1;32mdel\u001b[0m \u001b[0md\u001b[0m\u001b[1;33m[\u001b[0m\u001b[1;36m5\u001b[0m\u001b[1;33m]\u001b[0m\u001b[1;33m\u001b[0m\u001b[1;33m\u001b[0m\u001b[0m\n\u001b[0m\u001b[0;32m      3\u001b[0m \u001b[0mprint\u001b[0m\u001b[1;33m(\u001b[0m\u001b[0md\u001b[0m\u001b[1;33m)\u001b[0m\u001b[1;33m\u001b[0m\u001b[1;33m\u001b[0m\u001b[0m\n",
      "\u001b[1;31mTypeError\u001b[0m: 'set' object doesn't support item deletion"
     ]
    }
   ],
   "source": [
    "#Delete is not working in set\n",
    "#d={1,5,6,8,9}\n",
    "del d[5]\n",
    "print(d)"
   ]
  },
  {
   "cell_type": "code",
   "execution_count": 41,
   "metadata": {},
   "outputs": [
    {
     "data": {
      "text/plain": [
       "{1, 2, 3, 4, 5, 6, 7, 8}"
      ]
     },
     "execution_count": 41,
     "metadata": {},
     "output_type": "execute_result"
    }
   ],
   "source": [
    "#we delete the duplicate values in set use b|c\n",
    "b={1,2,3,4,5}\n",
    "c={1,2,3,6,7,8}\n",
    "b|c\n"
   ]
  },
  {
   "cell_type": "code",
   "execution_count": 40,
   "metadata": {},
   "outputs": [
    {
     "data": {
      "text/plain": [
       "{2, 3}"
      ]
     },
     "execution_count": 40,
     "metadata": {},
     "output_type": "execute_result"
    }
   ],
   "source": [
    "# we display the repeted value \n",
    "b={1,2,3,4}\n",
    "c={2,3,5,6}\n",
    "b&c\n"
   ]
  },
  {
   "cell_type": "code",
   "execution_count": 42,
   "metadata": {},
   "outputs": [
    {
     "data": {
      "text/plain": [
       "25"
      ]
     },
     "execution_count": 42,
     "metadata": {},
     "output_type": "execute_result"
    }
   ],
   "source": [
    "#using return statement\n",
    "def display(a,b):\n",
    "    z=a+b\n",
    "    return z\n",
    "display(10,15)"
   ]
  },
  {
   "cell_type": "markdown",
   "metadata": {},
   "source": [
    "# Type conversions"
   ]
  },
  {
   "cell_type": "code",
   "execution_count": 46,
   "metadata": {},
   "outputs": [
    {
     "name": "stdout",
     "output_type": "stream",
     "text": [
      "<class 'str'>\n",
      "<class 'int'>\n",
      "123456\n"
     ]
    }
   ],
   "source": [
    "#To convert int to string\n",
    "a=\"123456\"\n",
    "print(type(a))\n",
    "a1=int(a)\n",
    "print(type(a1))\n",
    "print(a1)"
   ]
  },
  {
   "cell_type": "code",
   "execution_count": 50,
   "metadata": {},
   "outputs": [
    {
     "name": "stdout",
     "output_type": "stream",
     "text": [
      "<class 'str'>\n",
      "<class 'float'>\n",
      "2356.0\n"
     ]
    }
   ],
   "source": [
    "#To convert float to string\n",
    "b=\"2356\"\n",
    "print(type(b))\n",
    "b1=float(b)\n",
    "print(type(b1))\n",
    "print(b1)"
   ]
  },
  {
   "cell_type": "code",
   "execution_count": 51,
   "metadata": {},
   "outputs": [
    {
     "name": "stdout",
     "output_type": "stream",
     "text": [
      "<class 'str'>\n",
      "<class 'tuple'>\n",
      "('2', '3', '5', '6')\n"
     ]
    }
   ],
   "source": [
    "#convert the string to tuple\n",
    "b=\"2356\"\n",
    "print(type(b))\n",
    "b1=tuple(b)\n",
    "print(type(b1))\n",
    "print(b1)"
   ]
  },
  {
   "cell_type": "code",
   "execution_count": 62,
   "metadata": {},
   "outputs": [
    {
     "name": "stdout",
     "output_type": "stream",
     "text": [
      "<class 'str'>\n",
      "<class 'set'>\n",
      "{'6', '5', '3', '2'}\n"
     ]
    }
   ],
   "source": [
    "#convert string to set\n",
    "b=\"2356\"\n",
    "print(type(b))\n",
    "b1=set(b)\n",
    "print(type(b1))\n",
    "print(b1)"
   ]
  },
  {
   "cell_type": "code",
   "execution_count": 53,
   "metadata": {},
   "outputs": [
    {
     "name": "stdout",
     "output_type": "stream",
     "text": [
      "<class 'str'>\n",
      "<class 'list'>\n",
      "['2', '3', '5', '6']\n"
     ]
    }
   ],
   "source": [
    "#convert string to list\n",
    "b=\"2356\"\n",
    "print(type(b))\n",
    "b1=list(b)\n",
    "print(type(b1))\n",
    "print(b1)"
   ]
  },
  {
   "cell_type": "code",
   "execution_count": 81,
   "metadata": {},
   "outputs": [
    {
     "name": "stdout",
     "output_type": "stream",
     "text": [
      "<class 'tuple'>\n",
      "<class 'list'>\n",
      "[2, 3, 5, 6]\n"
     ]
    }
   ],
   "source": [
    "#convert string to list\n",
    "b=(2,3,5,6)\n",
    "print(type(b))\n",
    "b1=list(b)\n",
    "print(type(b1))\n",
    "print(b1)"
   ]
  },
  {
   "cell_type": "code",
   "execution_count": 80,
   "metadata": {},
   "outputs": [
    {
     "data": {
      "text/plain": [
       "97"
      ]
     },
     "execution_count": 80,
     "metadata": {},
     "output_type": "execute_result"
    }
   ],
   "source": [
    "# To print the ASCII value\n",
    "ord('a')"
   ]
  },
  {
   "cell_type": "code",
   "execution_count": 69,
   "metadata": {},
   "outputs": [
    {
     "name": "stdout",
     "output_type": "stream",
     "text": [
      "<class 'str'>\n",
      "97\n",
      "<class 'int'>\n"
     ]
    }
   ],
   "source": [
    "#To find out the ASCII values of Given Characters\n",
    "i1='a'\n",
    "print(type(i1))\n",
    "i2=ord('a')\n",
    "print(i2)\n",
    "print(type(i2))"
   ]
  },
  {
   "cell_type": "code",
   "execution_count": 82,
   "metadata": {},
   "outputs": [
    {
     "name": "stdout",
     "output_type": "stream",
     "text": [
      "<class 'tuple'>\n"
     ]
    },
    {
     "ename": "TypeError",
     "evalue": "cannot convert dictionary update sequence element #0 to a sequence",
     "output_type": "error",
     "traceback": [
      "\u001b[1;31m---------------------------------------------------------------------------\u001b[0m",
      "\u001b[1;31mTypeError\u001b[0m                                 Traceback (most recent call last)",
      "\u001b[1;32m<ipython-input-82-44aa208a4f42>\u001b[0m in \u001b[0;36m<module>\u001b[1;34m\u001b[0m\n\u001b[0;32m      1\u001b[0m \u001b[0mt\u001b[0m\u001b[1;33m=\u001b[0m\u001b[1;33m(\u001b[0m\u001b[1;36m1\u001b[0m\u001b[1;33m,\u001b[0m\u001b[1;36m2\u001b[0m\u001b[1;33m,\u001b[0m\u001b[1;36m4\u001b[0m\u001b[1;33m,\u001b[0m\u001b[1;36m5\u001b[0m\u001b[1;33m,\u001b[0m\u001b[1;36m6\u001b[0m\u001b[1;33m)\u001b[0m\u001b[1;33m\u001b[0m\u001b[1;33m\u001b[0m\u001b[0m\n\u001b[0;32m      2\u001b[0m \u001b[0mprint\u001b[0m\u001b[1;33m(\u001b[0m\u001b[0mtype\u001b[0m\u001b[1;33m(\u001b[0m\u001b[0mt\u001b[0m\u001b[1;33m)\u001b[0m\u001b[1;33m)\u001b[0m\u001b[1;33m\u001b[0m\u001b[1;33m\u001b[0m\u001b[0m\n\u001b[1;32m----> 3\u001b[1;33m \u001b[0md\u001b[0m\u001b[1;33m=\u001b[0m\u001b[0mdict\u001b[0m\u001b[1;33m(\u001b[0m\u001b[0mt\u001b[0m\u001b[1;33m)\u001b[0m\u001b[1;33m\u001b[0m\u001b[1;33m\u001b[0m\u001b[0m\n\u001b[0m\u001b[0;32m      4\u001b[0m \u001b[0mprint\u001b[0m\u001b[1;33m(\u001b[0m\u001b[0md\u001b[0m\u001b[1;33m)\u001b[0m\u001b[1;33m\u001b[0m\u001b[1;33m\u001b[0m\u001b[0m\n\u001b[0;32m      5\u001b[0m \u001b[0mprint\u001b[0m\u001b[1;33m(\u001b[0m\u001b[0mtype\u001b[0m\u001b[1;33m(\u001b[0m\u001b[0md\u001b[0m\u001b[1;33m)\u001b[0m\u001b[1;33m)\u001b[0m\u001b[1;33m\u001b[0m\u001b[1;33m\u001b[0m\u001b[0m\n",
      "\u001b[1;31mTypeError\u001b[0m: cannot convert dictionary update sequence element #0 to a sequence"
     ]
    }
   ],
   "source": [
    "#To convert the tuple to dictonary\n",
    "t=(1,2,4,5,6)\n",
    "print(type(t))\n",
    "d=dict(t)\n",
    "print(d)\n",
    "print(type(d))#it is not possible tuple to dictonory"
   ]
  },
  {
   "cell_type": "code",
   "execution_count": 66,
   "metadata": {},
   "outputs": [
    {
     "data": {
      "text/plain": [
       "complex"
      ]
     },
     "execution_count": 66,
     "metadata": {},
     "output_type": "execute_result"
    }
   ],
   "source": [
    "num=6+9j\n",
    "type(num)"
   ]
  },
  {
   "cell_type": "code",
   "execution_count": 14,
   "metadata": {},
   "outputs": [
    {
     "name": "stdout",
     "output_type": "stream",
     "text": [
      "[10, 20]\n"
     ]
    }
   ],
   "source": [
    "#difference between pop(),delete(),remove() functions\n",
    "lis=[10,20,\"ashok\",10.5,True]\n",
    "lis.pop()#it delete the last element of the elememnt list\n",
    "del lis[3] #Here it can be used to delete the pertcular index  of the list\n",
    "lis.remove(\"ashok\") #here to give the specific \"vlue\"of the list\n",
    "print(lis)"
   ]
  },
  {
   "cell_type": "code",
   "execution_count": 60,
   "metadata": {},
   "outputs": [
    {
     "name": "stdout",
     "output_type": "stream",
     "text": [
      "[10, 20, 30, 40, 50, 80, 60]\n"
     ]
    }
   ],
   "source": [
    "#Difference between insert and Extened function\n",
    "lis=[10,20,30]\n",
    "lis1=[40,50,60]\n",
    "lis.extend(lis1)\n",
    "lis.insert(5,80)\n",
    "print(lis)"
   ]
  },
  {
   "cell_type": "code",
   "execution_count": 54,
   "metadata": {},
   "outputs": [
    {
     "name": "stdout",
     "output_type": "stream",
     "text": [
      "{40, 10, 30}\n"
     ]
    }
   ],
   "source": [
    "l10={10,20,30,40}\n",
    "#print(l10)\n",
    "l10.discard(20)\n",
    "print(l10)"
   ]
  },
  {
   "cell_type": "markdown",
   "metadata": {},
   "source": [
    "# File operations\n",
    "## It can used to retrview the file form ever desktop or any other remote loaction also\n",
    "## open()\n",
    "## read()\n",
    "## write()\n",
    "## close()\n",
    "## remove()\n",
    "# Note:we can delete the entire folder os.rmdir()"
   ]
  },
  {
   "cell_type": "code",
   "execution_count": 48,
   "metadata": {},
   "outputs": [
    {
     "name": "stdout",
     "output_type": "stream",
     "text": [
      "Hiii Helloksmkvdkfvldm,v.m/kvm\n"
     ]
    }
   ],
   "source": [
    "f=open(\"Samplefile.txt\")\n",
    "print(f.read())"
   ]
  },
  {
   "cell_type": "code",
   "execution_count": null,
   "metadata": {},
   "outputs": [],
   "source": []
  }
 ],
 "metadata": {
  "kernelspec": {
   "display_name": "Python 3",
   "language": "python",
   "name": "python3"
  },
  "language_info": {
   "codemirror_mode": {
    "name": "ipython",
    "version": 3
   },
   "file_extension": ".py",
   "mimetype": "text/x-python",
   "name": "python",
   "nbconvert_exporter": "python",
   "pygments_lexer": "ipython3",
   "version": "3.7.4"
  }
 },
 "nbformat": 4,
 "nbformat_minor": 2
}
