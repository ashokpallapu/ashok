{
 "cells": [
  {
   "cell_type": "code",
   "execution_count": 12,
   "metadata": {},
   "outputs": [
    {
     "name": "stdout",
     "output_type": "stream",
     "text": [
      "enter the numer of rows5\n",
      "1   \n",
      "2   2   \n",
      "3   3   3   \n",
      "4   4   4   4   \n",
      "5   5   5   5   5   \n"
     ]
    }
   ],
   "source": [
    "#To print the Triangle triangle\n",
    "num=int(input(\"enter the numer of rows\"))\n",
    "n=1\n",
    "for i in range (num):\n",
    "    for j in range (i+1):\n",
    "        print(n,end =\"   \")# to the \"*\" insted off number print(\"*\",end)\n",
    "    n=n+1\n",
    "    print()"
   ]
  },
  {
   "cell_type": "code",
   "execution_count": 24,
   "metadata": {},
   "outputs": [
    {
     "name": "stdout",
     "output_type": "stream",
     "text": [
      "enter the numer of rows do you wany5\n",
      "1     \n",
      "2     2     \n",
      "3     3     3     \n",
      "4     4     4     4     \n",
      "5     5     5     5     5     \n"
     ]
    }
   ],
   "source": [
    "#to print the values using FORMAT function\n",
    "num=int(input(\"enter the numer of rows do you want\"))\n",
    "n=1\n",
    "for i in range (num):\n",
    "    for j in range (i+1):\n",
    "        print(format(n,\"<5\"),end=\" \")\n",
    "    n=n+1\n",
    "    print()"
   ]
  },
  {
   "cell_type": "code",
   "execution_count": 35,
   "metadata": {},
   "outputs": [
    {
     "name": "stdout",
     "output_type": "stream",
     "text": [
      "enter the number of rows do you want5\n",
      "        1   \n",
      "      2   3   \n",
      "    4   5   6   \n",
      "  7   8   9   10   \n",
      "11   12   13   14   15   \n"
     ]
    }
   ],
   "source": [
    "# print the values in Peramid shape\n",
    "num=int(input (\"enter the number of rows do you want\"))\n",
    "n=1\n",
    "for i in range(num):\n",
    "    for j in range(num-i-1):\n",
    "        print(end=\"  \")\n",
    "    for j in range (i+1):\n",
    "        print(n,end= \"   \")\n",
    "        n=n+1\n",
    "    print()"
   ]
  },
  {
   "cell_type": "code",
   "execution_count": 45,
   "metadata": {},
   "outputs": [
    {
     "name": "stdout",
     "output_type": "stream",
     "text": [
      "enter the number of rows do you want5\n",
      "            1     \n",
      "         2     3     \n",
      "      4     5     6     \n",
      "   7     8     9     10    \n",
      "11    12    13    14    15    \n"
     ]
    }
   ],
   "source": [
    "# print the values in Peramid shape\n",
    "num=int(input (\"enter the number of rows do you want\"))\n",
    "n=1\n",
    "for i in range(num):\n",
    "    for j in range(num-i-1):\n",
    "        print(format(\" \",\"<3\"),end=\"\")\n",
    "    for j in range (i+1):\n",
    "        print(format(n,\"<6\"),end= \"\")# j size is double for spaces\n",
    "        n=n+1\n",
    "    print()"
   ]
  },
  {
   "cell_type": "code",
   "execution_count": 13,
   "metadata": {},
   "outputs": [
    {
     "data": {
      "text/plain": [
       "1"
      ]
     },
     "execution_count": 13,
     "metadata": {},
     "output_type": "execute_result"
    }
   ],
   "source": [
    "#floor division\n",
    "3//2"
   ]
  },
  {
   "cell_type": "code",
   "execution_count": 14,
   "metadata": {},
   "outputs": [
    {
     "data": {
      "text/plain": [
       "1.5"
      ]
     },
     "execution_count": 14,
     "metadata": {},
     "output_type": "execute_result"
    }
   ],
   "source": [
    "3/2"
   ]
  },
  {
   "cell_type": "code",
   "execution_count": 15,
   "metadata": {},
   "outputs": [
    {
     "data": {
      "text/plain": [
       "False"
      ]
     },
     "execution_count": 15,
     "metadata": {},
     "output_type": "execute_result"
    }
   ],
   "source": [
    "\"su\">\"sum\""
   ]
  },
  {
   "cell_type": "code",
   "execution_count": 16,
   "metadata": {},
   "outputs": [
    {
     "data": {
      "text/plain": [
       "True"
      ]
     },
     "execution_count": 16,
     "metadata": {},
     "output_type": "execute_result"
    }
   ],
   "source": [
    "\"su\"<\"sum\""
   ]
  },
  {
   "cell_type": "code",
   "execution_count": 17,
   "metadata": {},
   "outputs": [
    {
     "name": "stdout",
     "output_type": "stream",
     "text": [
      "3\n"
     ]
    }
   ],
   "source": [
    "print(2 and 3)"
   ]
  },
  {
   "cell_type": "code",
   "execution_count": 18,
   "metadata": {},
   "outputs": [
    {
     "name": "stdout",
     "output_type": "stream",
     "text": [
      "2\n"
     ]
    }
   ],
   "source": [
    "print(2&3)"
   ]
  },
  {
   "cell_type": "code",
   "execution_count": null,
   "metadata": {},
   "outputs": [],
   "source": [
    "if :\n",
    "if if if :all conditions will be executed,multiple o/p wiil cum\n",
    "if else\n",
    "nested if else\n",
    "if elif elif:only one condtion is excuted\n",
    "if elif else\n"
   ]
  },
  {
   "cell_type": "markdown",
   "metadata": {},
   "source": [
    "# format method\n",
    "%,{}\n",
    "It will dispaly the type and value format\n",
    "% Using these Type is Importent\n",
    "{} Value is Importent"
   ]
  },
  {
   "cell_type": "code",
   "execution_count": 55,
   "metadata": {},
   "outputs": [
    {
     "name": "stdout",
     "output_type": "stream",
     "text": [
      "ashok 26 85000.65\n",
      "name is : ashok\n",
      "age is : 26\n",
      "sal is : 85000.65\n",
      "name:ashok, age:26,sal:85000.6\n",
      "name:ashok age:26 sal:85000.65\n",
      "name:ashok age:26 sal:85000.65\n"
     ]
    }
   ],
   "source": [
    "name=\"ashok\"\n",
    "age=26\n",
    "sal=85000.65\n",
    "#%S:It consider type it will dispaly the stings\n",
    "#%d:it consider interger values\n",
    "#%g,%f:it will dispaly the long type values\n",
    "#-------------------------------------------------------\n",
    "# to print the values in different approches\n",
    "#approches-1\n",
    "print(name,age,sal)\n",
    "#approches-2\n",
    "print(\"name is :\",name)\n",
    "print(\"age is :\",age)\n",
    "print(\"sal is :\",sal)\n",
    "#===============================\n",
    "#aprocah-3 using % opertor type is important\n",
    "print(\"name:%s, age:%d,sal:%g\"%(name,age,sal))\n",
    "#==========================================\n",
    "#approcah-4 {} Here Value will be importtant\n",
    "print(\"name:{} age:{} sal:{}\".format(name,age,sal))\n",
    "#approach-5 to print the values based on index's\n",
    "print(\"name:{0} age:{1} sal:{2}\".format(name,age,sal))"
   ]
  },
  {
   "cell_type": "code",
   "execution_count": 4,
   "metadata": {},
   "outputs": [
    {
     "name": "stdout",
     "output_type": "stream",
     "text": [
      "2\n"
     ]
    },
    {
     "data": {
      "text/plain": [
       "[]"
      ]
     },
     "execution_count": 4,
     "metadata": {},
     "output_type": "execute_result"
    }
   ],
   "source": [
    "#get\n",
    "n=int(input())\n",
    "names=[]\n",
    "out=[]\n",
    "for i in names:\n",
    "    if i[0] in \"aeiou\":\n",
    "        out.append(names)\n",
    "out"
   ]
  },
  {
   "cell_type": "code",
   "execution_count": null,
   "metadata": {},
   "outputs": [],
   "source": []
  },
  {
   "cell_type": "code",
   "execution_count": null,
   "metadata": {},
   "outputs": [],
   "source": []
  }
 ],
 "metadata": {
  "kernelspec": {
   "display_name": "Python 3",
   "language": "python",
   "name": "python3"
  },
  "language_info": {
   "codemirror_mode": {
    "name": "ipython",
    "version": 3
   },
   "file_extension": ".py",
   "mimetype": "text/x-python",
   "name": "python",
   "nbconvert_exporter": "python",
   "pygments_lexer": "ipython3",
   "version": "3.7.4"
  }
 },
 "nbformat": 4,
 "nbformat_minor": 2
}
