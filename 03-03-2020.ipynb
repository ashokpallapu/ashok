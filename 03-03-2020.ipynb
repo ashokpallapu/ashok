{
 "cells": [
  {
   "cell_type": "code",
   "execution_count": 5,
   "metadata": {},
   "outputs": [
    {
     "ename": "IndentationError",
     "evalue": "unexpected indent (<ipython-input-5-3e1e84e69682>, line 2)",
     "output_type": "error",
     "traceback": [
      "\u001b[1;36m  File \u001b[1;32m\"<ipython-input-5-3e1e84e69682>\"\u001b[1;36m, line \u001b[1;32m2\u001b[0m\n\u001b[1;33m    s1=\"abc xyz\"\u001b[0m\n\u001b[1;37m    ^\u001b[0m\n\u001b[1;31mIndentationError\u001b[0m\u001b[1;31m:\u001b[0m unexpected indent\n"
     ]
    }
   ],
   "source": [
    "#find:\n",
    "    s1=\"abc xyz\"\n",
    "    s2=\"xyz\"\n",
    "print(s1.find(s2))----->o/p:4\n",
    "print(s1.find(\"uvx\"))\n",
    "#spilt():this mathod return type is \"list\" format"
   ]
  },
  {
   "cell_type": "markdown",
   "metadata": {},
   "source": [
    "# opertors:\n",
    " ## an operator can perform operation\n"
   ]
  },
  {
   "cell_type": "code",
   "execution_count": null,
   "metadata": {},
   "outputs": [],
   "source": [
    "#1.Arthametic operator\n",
    "x=10\n",
    "y=20\n",
    "print(x+y)\n",
    "print(x-y)\n",
    "print(x*y)\n",
    "print(x/y)\n",
    "print(x%y)\n",
    "print(x//y)(flooe division)--->it will return interger value\n",
    "print(x**y)#10^20"
   ]
  },
  {
   "cell_type": "code",
   "execution_count": null,
   "metadata": {},
   "outputs": [],
   "source": [
    "#2.relational operator < ,>, <=, =>, ==, !="
   ]
  },
  {
   "cell_type": "code",
   "execution_count": null,
   "metadata": {},
   "outputs": [],
   "source": [
    "#3.logical operator :and,or ,not"
   ]
  },
  {
   "cell_type": "code",
   "execution_count": 6,
   "metadata": {},
   "outputs": [
    {
     "name": "stdout",
     "output_type": "stream",
     "text": [
      "20\n"
     ]
    }
   ],
   "source": [
    "#4.Assienment operators:=,+=,-=,*=,/=,%=,//=,**=\n",
    "x=10\n",
    "y=20\n",
    "x+=10 #x=x+10\n",
    "print(x)"
   ]
  },
  {
   "cell_type": "code",
   "execution_count": 9,
   "metadata": {},
   "outputs": [
    {
     "name": "stdout",
     "output_type": "stream",
     "text": [
      "0\n",
      "30\n",
      "30\n",
      "40\n",
      "2\n",
      "-11\n"
     ]
    }
   ],
   "source": [
    "#5.bitwise operator:&,|,^,~,>>\n",
    "x=10\n",
    "y=20\n",
    "print(x & y)#0000 0000--->\n",
    "print(x| y)#0001 1110--->two bits 1 return 1 or two bits 0 return 0\n",
    "print(x^y)# 0001 1110--->\n",
    "print(x<<2)#0010 1000 adding bits from left side\n",
    "print(x>>2)-->0000 0010 adding bits from right side\n",
    "print(~x)#negitive value is return"
   ]
  },
  {
   "cell_type": "code",
   "execution_count": 10,
   "metadata": {},
   "outputs": [
    {
     "data": {
      "text/plain": [
       "'0b1010'"
      ]
     },
     "execution_count": 10,
     "metadata": {},
     "output_type": "execute_result"
    }
   ],
   "source": [
    "#to covart binary value to decimal value\n",
    "bin(x)"
   ]
  },
  {
   "cell_type": "code",
   "execution_count": 13,
   "metadata": {},
   "outputs": [
    {
     "name": "stdout",
     "output_type": "stream",
     "text": [
      "True\n",
      "False\n"
     ]
    }
   ],
   "source": [
    "#6.Member ship oerators:it can be work if not there in chracter with in the string retuen boolen value true/false\n",
    "s=\"Ashok\"\n",
    "print('A' in s)\n",
    "print('a' in s)\n",
    "print('A' in s)"
   ]
  },
  {
   "cell_type": "code",
   "execution_count": 16,
   "metadata": {},
   "outputs": [
    {
     "name": "stdout",
     "output_type": "stream",
     "text": [
      "True\n",
      "False\n",
      "True\n",
      "False\n"
     ]
    }
   ],
   "source": [
    "#7.identitiy operator:to check the pointing varible refernces\n",
    "x=10\n",
    "y=20\n",
    "z=10\n",
    "print(x is z)#id(x)==id(z)--->true\n",
    "print(x is y)\n",
    "print(x is not y)\n",
    "print(x is not z)\n",
    "\n"
   ]
  },
  {
   "cell_type": "code",
   "execution_count": 17,
   "metadata": {},
   "outputs": [
    {
     "name": "stdout",
     "output_type": "stream",
     "text": [
      "20\n",
      "20\n"
     ]
    }
   ],
   "source": [
    "#8.Ternary operator:to reduce the lines number of code\n",
    "x=10\n",
    "y=20\n",
    "if(x>y):\n",
    "    print(x)\n",
    "else:\n",
    "    print(y)\n",
    "##################\n",
    "print(x) if(x>y)else print(y)------>ternary operator"
   ]
  },
  {
   "cell_type": "markdown",
   "metadata": {},
   "source": [
    "# Condinitional control statements\n",
    " ## if,else,elif"
   ]
  },
  {
   "cell_type": "code",
   "execution_count": 30,
   "metadata": {},
   "outputs": [
    {
     "name": "stdout",
     "output_type": "stream",
     "text": [
      "enter the first sub marks50\n",
      "enter the second sub marks50\n",
      "enter the third sub marks50\n",
      "grade C\n"
     ]
    }
   ],
   "source": [
    "#Accept 3 subject marks of a student and check whether student got min 30 marks in all sub or not\n",
    "#if he gets min 30 in all sub the find avg marks else print FAIL\n",
    "#avg>=75--->A\n",
    "#avg<75 and avg>=60--->B\n",
    "#avg<60 and avg>=45-->C\n",
    "#avg<45 and avg>=30--->D\n",
    "#else FAIL\n",
    "m1=int(input(\"enter the first sub marks\"))\n",
    "m2=int(input(\"enter the second sub marks\"))\n",
    "m3=int(input(\"enter the third sub marks\"))\n",
    "if(m1>30 and m2>30 and m3>30):\n",
    "    avg=(m1+m2+m3)/3\n",
    "    if (avg>75):\n",
    "        print(\"grade A\")\n",
    "    elif(avg>=60 and avg<75):\n",
    "        print(\"grade B\")\n",
    "    elif(avg>=45 and avg<60):\n",
    "        print(\"grade C\")\n",
    "    elif(avg>=30 and avg<45):\n",
    "        print(\"grade D\")   \n",
    "    else:\n",
    "        print(\"fail\")\n",
    "else :\n",
    "    print(\"FAIL\")\n",
    "    "
   ]
  },
  {
   "cell_type": "code",
   "execution_count": 5,
   "metadata": {},
   "outputs": [
    {
     "name": "stdout",
     "output_type": "stream",
     "text": [
      "enter the stringashok\n",
      "a\n",
      "s\n",
      "h\n",
      "o\n",
      "k\n"
     ]
    }
   ],
   "source": [
    "#while loop\n",
    "a=input(\"enter the string\")\n",
    "l=0 #len of string\n",
    "d=0\n",
    "for i in a:\n",
    "    l+=1\n",
    "while(d<l):#printing character\n",
    "    print(a[d])\n",
    "    d+=1\n",
    "    \n",
    "    "
   ]
  },
  {
   "cell_type": "code",
   "execution_count": 27,
   "metadata": {},
   "outputs": [
    {
     "name": "stdout",
     "output_type": "stream",
     "text": [
      "enter the string121\n",
      "given num is palindrome\n",
      "plaindrome\n"
     ]
    }
   ],
   "source": [
    "#w r t palindrome or not \n",
    "s=int(input(\"enter the string\"))\n",
    "rev=0\n",
    "temp=s\n",
    "while s>0:\n",
    "    rem=s%10\n",
    "    rev=rev*10+rem\n",
    "    s=s//10\n",
    "if rev==temp:\n",
    "        print(\"given num is palindrome\")\n",
    "else:\n",
    "        print(\"not palindrome\")\n",
    "#######################################################\n",
    "#ternary operator\n",
    "print(\"plaindrome\") if rev==temp else print(\"not a palindrome\")\n",
    "        "
   ]
  },
  {
   "cell_type": "code",
   "execution_count": 61,
   "metadata": {},
   "outputs": [
    {
     "name": "stdout",
     "output_type": "stream",
     "text": [
      "enter the stringashok\n",
      "givenstring is not a palindrome\n"
     ]
    }
   ],
   "source": [
    "#w r t palindrome or not of given string \n",
    "s=(input(\"enter the string\"  ))\n",
    "print(\"given  is palindrome\")if s==s[::-1]else print(\"givenstring is not a palindrome\")\n"
   ]
  },
  {
   "cell_type": "code",
   "execution_count": 59,
   "metadata": {},
   "outputs": [
    {
     "name": "stdout",
     "output_type": "stream",
     "text": [
      "enter the string123\n",
      "given string is not a palindrome\n"
     ]
    }
   ],
   "source": [
    "#w r p to check the given num is palindromr or not\n",
    "n=int(input(\"enter the string\"))\n",
    "print(\"given num is palindrome\")if str(n)== str(n)[::-1]else print(\"given num is not a palindrome\")\n"
   ]
  },
  {
   "cell_type": "code",
   "execution_count": 9,
   "metadata": {},
   "outputs": [
    {
     "ename": "IndentationError",
     "evalue": "unexpected indent (<ipython-input-9-272255f981cb>, line 3)",
     "output_type": "error",
     "traceback": [
      "\u001b[1;36m  File \u001b[1;32m\"<ipython-input-9-272255f981cb>\"\u001b[1;36m, line \u001b[1;32m3\u001b[0m\n\u001b[1;33m    dig=0\u001b[0m\n\u001b[1;37m    ^\u001b[0m\n\u001b[1;31mIndentationError\u001b[0m\u001b[1;31m:\u001b[0m unexpected indent\n"
     ]
    }
   ],
   "source": [
    "n=int(input(\"enter the value\"))\n",
    "num=n\n",
    "    dig=0\n",
    "    rev=0\n",
    "    while n>o :\n",
    "        dig=n%10\n",
    "        n=n/10\n",
    "        rev=rev*10+dig\n",
    "    if(num==rev):\n",
    "        print(\"given num is palindrome\")\n",
    "    else :\n",
    "        print(\"not a palindromr\")"
   ]
  },
  {
   "cell_type": "code",
   "execution_count": 48,
   "metadata": {},
   "outputs": [
    {
     "name": "stdout",
     "output_type": "stream",
     "text": [
      "enter the range20\n",
      "0\n",
      "5\n",
      "10\n",
      "15\n"
     ]
    }
   ],
   "source": [
    "n=int(input(\"enter the range\"))\n",
    "for i  in range (0,n):\n",
    "    if(i%5!=0):\n",
    "        continue\n",
    "    print(i)"
   ]
  },
  {
   "cell_type": "code",
   "execution_count": 70,
   "metadata": {},
   "outputs": [
    {
     "name": "stdout",
     "output_type": "stream",
     "text": [
      "enter the number10\n",
      "10 * 1 = 10\n",
      "10 * 2 = 20\n",
      "10 * 3 = 30\n",
      "10 * 4 = 40\n",
      "10 * 5 = 50\n",
      "10 * 6 = 60\n",
      "10 * 7 = 70\n",
      "10 * 8 = 80\n",
      "10 * 9 = 90\n",
      "10 * 10 = 100\n"
     ]
    }
   ],
   "source": [
    "#w r p to print the specific number mulitiples\n",
    "num=int(input(\"enter the number\"))\n",
    "count=1\n",
    "for count in range(1,11):\n",
    "    #print(num,'x',count,\"=\",num*count)\n",
    "#using format opertor\n",
    "    print(\"%d * %d = %d\"%(num,count,num*count))"
   ]
  },
  {
   "cell_type": "code",
   "execution_count": 86,
   "metadata": {},
   "outputs": [
    {
     "name": "stdout",
     "output_type": "stream",
     "text": [
      "enter the number  4\n",
      " not a prime number 1\n",
      " not a prime number 2\n",
      " prime 3\n"
     ]
    }
   ],
   "source": [
    "#w r p to check the given num is prime or not\n",
    "n=int(input(\"enter the number  \"))\n",
    "for i in range (1,n):\n",
    "    if(n%i==0):\n",
    "        print(\" not a prime number\",i)\n",
    "else:\n",
    "    print(\" prime\",i)\n",
    "    "
   ]
  },
  {
   "cell_type": "code",
   "execution_count": null,
   "metadata": {},
   "outputs": [],
   "source": []
  }
 ],
 "metadata": {
  "kernelspec": {
   "display_name": "Python 3",
   "language": "python",
   "name": "python3"
  }
 },
 "nbformat": 4,
 "nbformat_minor": 2
}
