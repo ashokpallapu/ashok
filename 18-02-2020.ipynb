{
 "cells": [
  {
   "cell_type": "code",
   "execution_count": 12,
   "metadata": {},
   "outputs": [
    {
     "name": "stdout",
     "output_type": "stream",
     "text": [
      "89\n",
      "55\n"
     ]
    }
   ],
   "source": [
    "# to print the largest number in the list\n",
    "li=[10,20,55,45,66,89]\n",
    "def largeNumber(li):\n",
    "    li.sort()\n",
    "    return li[-1]\n",
    "print(largeNumber(li))\n",
    "#----------------------------------------\n",
    "#To print second largest number in list\n",
    "def genericNumber(li,n):\n",
    "    li.sort()\n",
    "    return li[-n]\n",
    "print(genericNumber(li,3))\n"
   ]
  },
  {
   "cell_type": "code",
   "execution_count": 18,
   "metadata": {},
   "outputs": [
    {
     "name": "stdout",
     "output_type": "stream",
     "text": [
      "[10, 20, 45, 55, 66, 89]\n",
      "10\n"
     ]
    }
   ],
   "source": [
    "#to print the least number of given list\n",
    "print(li)\n",
    "def leastNumber(li):\n",
    "    li.sort()\n",
    "    return li[0]\n",
    "print(leastNumber(li))\n",
    "def genericLeastNumber(li,n)"
   ]
  },
  {
   "cell_type": "code",
   "execution_count": null,
   "metadata": {},
   "outputs": [],
   "source": []
  }
 ],
 "metadata": {
  "kernelspec": {
   "display_name": "Python 3",
   "language": "python",
   "name": "python3"
  },
  "language_info": {
   "codemirror_mode": {
    "name": "ipython",
    "version": 3
   },
   "file_extension": ".py",
   "mimetype": "text/x-python",
   "name": "python",
   "nbconvert_exporter": "python",
   "pygments_lexer": "ipython3",
   "version": "3.7.4"
  }
 },
 "nbformat": 4,
 "nbformat_minor": 2
}
