{
 "cells": [
  {
   "cell_type": "code",
   "execution_count": null,
   "metadata": {},
   "outputs": [],
   "source": [
    "classification\n",
    "- Binary\n",
    "- Multiclass\n",
    "- Sentiment Analysis\n",
    "- Anomly detection \n",
    "Regression\n",
    "Recommender Systems\n",
    "Reinforcement Learning\n",
    "NLP\n",
    "- Q&A\n",
    "- Auto completion\n",
    "- Chatbot\n",
    "Computer Vision\n",
    "- Object detection\n",
    "- Object tracking\n",
    "- image classfication\n",
    "- image tagging\n",
    "Data\n",
    "- numerical data\n",
    "- image data\n",
    "- audio data\n",
    "- video data\n",
    "- text data\n",
    "- from documents\n",
    "- satellite imagery\n",
    "- timeseries data(Temperatue Reading, Stock prices)"
   ]
  }
 ],
 "metadata": {
  "kernelspec": {
   "display_name": "Python 3",
   "language": "python",
   "name": "python3"
  },
  "language_info": {
   "codemirror_mode": {
    "name": "ipython",
    "version": 3
   },
   "file_extension": ".py",
   "mimetype": "text/x-python",
   "name": "python",
   "nbconvert_exporter": "python",
   "pygments_lexer": "ipython3",
   "version": "3.7.4"
  }
 },
 "nbformat": 4,
 "nbformat_minor": 2
}
