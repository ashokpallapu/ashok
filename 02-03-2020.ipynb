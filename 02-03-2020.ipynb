{
 "cells": [
  {
   "cell_type": "markdown",
   "metadata": {},
   "source": [
    "# keywords:these are predefine specific meaning in complier"
   ]
  },
  {
   "cell_type": "markdown",
   "metadata": {},
   "source": [
    "## environments:\n",
    "              idnle's,\n",
    "             editors,\n",
    "             jupiter\n",
    "    idle's:debugging,no erroe showing,no id's,web appliction is not support.\n",
    "    editor :here writng the programme one place(editor's or note pab) runs another place (shell)\n",
    "jupiter:we write run print the output in single environment thas is  jupiter.\n",
    "            here singe cell is single programm.here \n",
    "              decalre the varible in one jupiter file, entire use the those varibles in jupiter file. \n",
    "    "
   ]
  },
  {
   "cell_type": "code",
   "execution_count": 1,
   "metadata": {},
   "outputs": [
    {
     "name": "stdout",
     "output_type": "stream",
     "text": [
      "hello\n"
     ]
    }
   ],
   "source": [
    "print(\"hello\")"
   ]
  },
  {
   "cell_type": "markdown",
   "metadata": {},
   "source": [
    "## Note:Last statements will be exiguted if there is no use print() "
   ]
  },
  {
   "cell_type": "code",
   "execution_count": 5,
   "metadata": {},
   "outputs": [
    {
     "data": {
      "text/plain": [
       "200"
      ]
     },
     "execution_count": 5,
     "metadata": {},
     "output_type": "execute_result"
    }
   ],
   "source": [
    "x=10\n",
    "y=20\n",
    "x+y\n",
    "x-y\n",
    "x*y\n"
   ]
  },
  {
   "cell_type": "code",
   "execution_count": 11,
   "metadata": {},
   "outputs": [
    {
     "name": "stdout",
     "output_type": "stream",
     "text": [
      "enter the person nameAshok\n",
      "enter the age26\n",
      "my name is Ashokage is 26\n"
     ]
    }
   ],
   "source": [
    "#Accept the name and age of preson and print output in the follwing manner\n",
    "name=input(\"enter the person name\")\n",
    "age=int(input(\"enter the age\"))\n",
    "print(\"my name is\" ,name, end= \"\")\n",
    "print(\"age is\",age)"
   ]
  },
  {
   "cell_type": "code",
   "execution_count": 12,
   "metadata": {},
   "outputs": [
    {
     "name": "stdout",
     "output_type": "stream",
     "text": [
      "\n",
      "Here is a list of the Python keywords.  Enter any keyword to get more help.\n",
      "\n",
      "False               class               from                or\n",
      "None                continue            global              pass\n",
      "True                def                 if                  raise\n",
      "and                 del                 import              return\n",
      "as                  elif                in                  try\n",
      "assert              else                is                  while\n",
      "async               except              lambda              with\n",
      "await               finally             nonlocal            yield\n",
      "break               for                 not                 \n",
      "\n"
     ]
    }
   ],
   "source": [
    "help(\"keywords\")"
   ]
  },
  {
   "cell_type": "markdown",
   "metadata": {},
   "source": [
    "# Data types:"
   ]
  },
  {
   "cell_type": "code",
   "execution_count": 13,
   "metadata": {},
   "outputs": [
    {
     "data": {
      "text/plain": [
       "(12+14j)"
      ]
     },
     "execution_count": 13,
     "metadata": {},
     "output_type": "execute_result"
    }
   ],
   "source": [
    " #1.Fundamental datatypes----->intg,float,complex,boolean,string\n",
    " #2.collection data types----->list,tuple,set,dictonary\n",
    "x=4+5j\n",
    "y=complex(8,9)\n",
    "x+y\n",
    "#complex number is take the two input values it will return only one value"
   ]
  },
  {
   "cell_type": "markdown",
   "metadata": {},
   "source": [
    "# Slicing\n"
   ]
  },
  {
   "cell_type": "markdown",
   "metadata": {},
   "source": [
    "#Note:We use multiple line of string use ''' elements  ''' or \"\"\" elements   \"\"\""
   ]
  },
  {
   "cell_type": "code",
   "execution_count": 23,
   "metadata": {},
   "outputs": [
    {
     "name": "stdout",
     "output_type": "stream",
     "text": [
      "6\n",
      "c\n",
      "1\n",
      "10\n"
     ]
    }
   ],
   "source": [
    "s=\"abc123\"\n",
    "x=10\n",
    "print(len(s))\n",
    "print(max(s))\n",
    "print(min(s))\n",
    "print(str(x))"
   ]
  },
  {
   "cell_type": "code",
   "execution_count": 21,
   "metadata": {},
   "outputs": [
    {
     "data": {
      "text/plain": [
       "49"
      ]
     },
     "execution_count": 21,
     "metadata": {},
     "output_type": "execute_result"
    }
   ],
   "source": [
    "# retuen the ASCII value of the given elelment\n",
    "ord ('1')\n"
   ]
  },
  {
   "cell_type": "code",
   "execution_count": 24,
   "metadata": {},
   "outputs": [
    {
     "data": {
      "text/plain": [
       "'1'"
      ]
     },
     "execution_count": 24,
     "metadata": {},
     "output_type": "execute_result"
    }
   ],
   "source": [
    "# return the value of given ASCII elelment\n",
    "chr(49)"
   ]
  },
  {
   "cell_type": "code",
   "execution_count": 28,
   "metadata": {},
   "outputs": [
    {
     "name": "stdout",
     "output_type": "stream",
     "text": [
      "azc\n"
     ]
    }
   ],
   "source": [
    "s1=\"abc\"\n",
    "s1=s1.replace('b','z')\n",
    "print(s1)"
   ]
  },
  {
   "cell_type": "code",
   "execution_count": null,
   "metadata": {},
   "outputs": [],
   "source": [
    "# differrence between function and method\n",
    "#function is call with in the class\n",
    "#method will call outside class also"
   ]
  },
  {
   "cell_type": "code",
   "execution_count": 29,
   "metadata": {},
   "outputs": [
    {
     "data": {
      "text/plain": [
       "['__add__',\n",
       " '__class__',\n",
       " '__contains__',\n",
       " '__delattr__',\n",
       " '__dir__',\n",
       " '__doc__',\n",
       " '__eq__',\n",
       " '__format__',\n",
       " '__ge__',\n",
       " '__getattribute__',\n",
       " '__getitem__',\n",
       " '__getnewargs__',\n",
       " '__gt__',\n",
       " '__hash__',\n",
       " '__init__',\n",
       " '__init_subclass__',\n",
       " '__iter__',\n",
       " '__le__',\n",
       " '__len__',\n",
       " '__lt__',\n",
       " '__mod__',\n",
       " '__mul__',\n",
       " '__ne__',\n",
       " '__new__',\n",
       " '__reduce__',\n",
       " '__reduce_ex__',\n",
       " '__repr__',\n",
       " '__rmod__',\n",
       " '__rmul__',\n",
       " '__setattr__',\n",
       " '__sizeof__',\n",
       " '__str__',\n",
       " '__subclasshook__',\n",
       " 'capitalize',\n",
       " 'casefold',\n",
       " 'center',\n",
       " 'count',\n",
       " 'encode',\n",
       " 'endswith',\n",
       " 'expandtabs',\n",
       " 'find',\n",
       " 'format',\n",
       " 'format_map',\n",
       " 'index',\n",
       " 'isalnum',\n",
       " 'isalpha',\n",
       " 'isascii',\n",
       " 'isdecimal',\n",
       " 'isdigit',\n",
       " 'isidentifier',\n",
       " 'islower',\n",
       " 'isnumeric',\n",
       " 'isprintable',\n",
       " 'isspace',\n",
       " 'istitle',\n",
       " 'isupper',\n",
       " 'join',\n",
       " 'ljust',\n",
       " 'lower',\n",
       " 'lstrip',\n",
       " 'maketrans',\n",
       " 'partition',\n",
       " 'replace',\n",
       " 'rfind',\n",
       " 'rindex',\n",
       " 'rjust',\n",
       " 'rpartition',\n",
       " 'rsplit',\n",
       " 'rstrip',\n",
       " 'split',\n",
       " 'splitlines',\n",
       " 'startswith',\n",
       " 'strip',\n",
       " 'swapcase',\n",
       " 'title',\n",
       " 'translate',\n",
       " 'upper',\n",
       " 'zfill']"
      ]
     },
     "execution_count": 29,
     "metadata": {},
     "output_type": "execute_result"
    }
   ],
   "source": [
    "#Buliten Methods in Python\n",
    "dir(str)"
   ]
  },
  {
   "cell_type": "code",
   "execution_count": 31,
   "metadata": {},
   "outputs": [
    {
     "name": "stdout",
     "output_type": "stream",
     "text": [
      "140735814476464 140735814476784\n"
     ]
    }
   ],
   "source": [
    "# to print the reference varible address\n",
    "x=10\n",
    "y=20\n",
    "print(id(x),id(y))"
   ]
  },
  {
   "cell_type": "code",
   "execution_count": 41,
   "metadata": {},
   "outputs": [
    {
     "name": "stdout",
     "output_type": "stream",
     "text": [
      "6\n",
      "0\n"
     ]
    }
   ],
   "source": [
    "#print the number of ()\n",
    "s=input()\n",
    "print(s.count(\"()\")*2)"
   ]
  },
  {
   "cell_type": "code",
   "execution_count": 38,
   "metadata": {},
   "outputs": [
    {
     "name": "stdout",
     "output_type": "stream",
     "text": [
      "a\n",
      "b\n",
      "c\n",
      "1\n",
      "2\n",
      "3\n"
     ]
    }
   ],
   "source": [
    "s=\"abc123\"\n",
    "for i in s:\n",
    "    print(i)"
   ]
  },
  {
   "cell_type": "code",
   "execution_count": 43,
   "metadata": {},
   "outputs": [
    {
     "ename": "SyntaxError",
     "evalue": "can't assign to operator (<ipython-input-43-bbb0304e750e>, line 9)",
     "output_type": "error",
     "traceback": [
      "\u001b[1;36m  File \u001b[1;32m\"<ipython-input-43-bbb0304e750e>\"\u001b[1;36m, line \u001b[1;32m9\u001b[0m\n\u001b[1;33m    u+1=1\u001b[0m\n\u001b[1;37m    ^\u001b[0m\n\u001b[1;31mSyntaxError\u001b[0m\u001b[1;31m:\u001b[0m can't assign to operator\n"
     ]
    }
   ],
   "source": [
    "#count the lower case characters and upper case in the given string\n",
    "input=\"AsHoK3139\"\n",
    "s=input()\n",
    "u=0\n",
    "l=0\n",
    "d=0\n",
    "for i in s:\n",
    "    if i.isupper():\n",
    "        u+1=1\n",
    "    elif i.islower():\n",
    "        l+=1\n",
    "    elif i.isdigit():\n",
    "        d+=1\n",
    "    print(\"uppercase\",u,\"lower case\",l,\"digits\",d)"
   ]
  },
  {
   "cell_type": "code",
   "execution_count": 46,
   "metadata": {},
   "outputs": [
    {
     "name": "stdout",
     "output_type": "stream",
     "text": [
      "ashokchakravarthy\n",
      "vowel 1 consonents 1\n",
      "vowel 1 consonents 2\n",
      "vowel 2 consonents 3\n",
      "vowel 2 consonents 4\n",
      "vowel 2 consonents 5\n",
      "vowel 3 consonents 6\n",
      "vowel 3 consonents 7\n",
      "vowel 4 consonents 8\n",
      "vowel 5 consonents 9\n",
      "vowel 5 consonents 10\n",
      "vowel 5 consonents 11\n",
      "vowel 5 consonents 12\n"
     ]
    }
   ],
   "source": [
    "s=input ()\n",
    "vowels=\"aeiouAEIOU\"\n",
    "v=0\n",
    "c=0\n",
    "for i in s:\n",
    "    if(i in vowels):\n",
    "        v+=1\n",
    "    else:\n",
    "        c+=1\n",
    "        print(\"vowel\",v,\"consonents\",c)\n",
    "        \n",
    "        "
   ]
  },
  {
   "cell_type": "code",
   "execution_count": 22,
   "metadata": {},
   "outputs": [
    {
     "ename": "IndentationError",
     "evalue": "unindent does not match any outer indentation level (<tokenize>, line 23)",
     "output_type": "error",
     "traceback": [
      "\u001b[1;36m  File \u001b[1;32m\"<tokenize>\"\u001b[1;36m, line \u001b[1;32m23\u001b[0m\n\u001b[1;33m    for i in range (len(str2),len(str1)):\u001b[0m\n\u001b[1;37m    ^\u001b[0m\n\u001b[1;31mIndentationError\u001b[0m\u001b[1;31m:\u001b[0m unindent does not match any outer indentation level\n"
     ]
    }
   ],
   "source": [
    "#input :\n",
    "#bad  water\n",
    "#output :\n",
    "#b w\n",
    "#a a \n",
    "#d t\n",
    "#* e\n",
    "#* r\n",
    "str1=input(\"enter the string1\")#bad\n",
    "str2=input(\"enter the string 2\")#water\n",
    "if (len(str1)==len(str2)):\n",
    "    for i in range(len(str1)):\n",
    "        print(str1,str2)\n",
    "elif(len(str1)<len(str2)):\n",
    "    for i in range(len(str1)):\n",
    "        print(str1[i],str2[i])\n",
    "    for i in range (len(str1),len(str2)):\n",
    "        print(\"*\",str2[i])\n",
    "#######################################################\n",
    "else:\n",
    "     for i in range(len(str2)):\n",
    "        print(str1[i],str2[i])\n",
    "    for i in range (len(str2),len(str1)):\n",
    "        print(str1[i],\"*\")\n"
   ]
  },
  {
   "cell_type": "code",
   "execution_count": 16,
   "metadata": {},
   "outputs": [
    {
     "name": "stdout",
     "output_type": "stream",
     "text": [
      "enter the string1bad\n",
      "enter the string 2water\n",
      "b w\n",
      "a a\n",
      "d t\n",
      "* e\n",
      "* r\n"
     ]
    }
   ],
   "source": [
    "str1=input(\"enter the string1\")#bad\n",
    "str2=input(\"enter the string 2\")#water\n",
    "if len(str1)<len(str2):\n",
    "    diff=len(str2)-len(str1)\n",
    "    str1=str1+\"*\"*diff\n",
    "elif len(str1)>len(str2):\n",
    "         diff=len(str1)-len(str2)\n",
    "         str2=str2+\"*\"*diff\n",
    "for i in range(len(str1)):\n",
    "         print(str1[i],str2[i])"
   ]
  },
  {
   "cell_type": "code",
   "execution_count": 26,
   "metadata": {},
   "outputs": [
    {
     "name": "stdout",
     "output_type": "stream",
     "text": [
      "enter a string   ornge\n",
      "puoif"
     ]
    }
   ],
   "source": [
    "#input =orange\n",
    "#output=puboif\n",
    "s=input(\"enter a string   \")\n",
    "vowels=\"aeiouAEIOU\"\n",
    "for i in s:\n",
    "    if(i in vowels):\n",
    "        print(chr(ord(i)+1),end=\"\")\n",
    "    else:\n",
    "            if(i>'a' and i<'e'):\n",
    "                print('e',end=\"\")\n",
    "            elif(i>'e' and i<'i'):\n",
    "                print('i',end=\"\")\n",
    "            elif(i>'i' and i<'o'):\n",
    "                print(\"o\",end=\"\")\n",
    "            elif(i>'o'and i<'u'):\n",
    "                print('u',end=\"\")\n",
    "            elif(i>'u' and i<='z'):\n",
    "                print('a')\n",
    "            "
   ]
  },
  {
   "cell_type": "code",
   "execution_count": null,
   "metadata": {},
   "outputs": [],
   "source": []
  }
 ],
 "metadata": {
  "kernelspec": {
   "display_name": "Python 3",
   "language": "python",
   "name": "python3"
  },
  "language_info": {
   "codemirror_mode": {
    "name": "ipython",
    "version": 3
   },
   "file_extension": ".py",
   "mimetype": "text/x-python",
   "name": "python",
   "nbconvert_exporter": "python",
   "pygments_lexer": "ipython3",
   "version": "3.7.4"
  }
 },
 "nbformat": 4,
 "nbformat_minor": 2
}
